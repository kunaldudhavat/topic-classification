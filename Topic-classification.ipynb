{
  "nbformat": 4,
  "nbformat_minor": 0,
  "metadata": {
    "anaconda-cloud": {},
    "colab": {
      "provenance": [],
      "toc_visible": true
    },
    "kernelspec": {
      "display_name": "Python 3",
      "name": "python3"
    },
    "widgets": {
      "application/vnd.jupyter.widget-state+json": {
        "edd792389f814ca58ac1c4a3994cfb87": {
          "model_module": "@jupyter-widgets/controls",
          "model_name": "HBoxModel",
          "model_module_version": "1.5.0",
          "state": {
            "_dom_classes": [],
            "_model_module": "@jupyter-widgets/controls",
            "_model_module_version": "1.5.0",
            "_model_name": "HBoxModel",
            "_view_count": null,
            "_view_module": "@jupyter-widgets/controls",
            "_view_module_version": "1.5.0",
            "_view_name": "HBoxView",
            "box_style": "",
            "children": [
              "IPY_MODEL_c50e205457ab4f6186a091c29139f6ef",
              "IPY_MODEL_c5fabd80a4a149a2a0a35e11ebb84f75",
              "IPY_MODEL_abc1dbc2a8d244a78ab3b1d6980cdab7"
            ],
            "layout": "IPY_MODEL_7701a27b3ccc4a078f56c9eba789aea4"
          }
        },
        "c50e205457ab4f6186a091c29139f6ef": {
          "model_module": "@jupyter-widgets/controls",
          "model_name": "HTMLModel",
          "model_module_version": "1.5.0",
          "state": {
            "_dom_classes": [],
            "_model_module": "@jupyter-widgets/controls",
            "_model_module_version": "1.5.0",
            "_model_name": "HTMLModel",
            "_view_count": null,
            "_view_module": "@jupyter-widgets/controls",
            "_view_module_version": "1.5.0",
            "_view_name": "HTMLView",
            "description": "",
            "description_tooltip": null,
            "layout": "IPY_MODEL_39350900b7d2400b864bed1644b4d930",
            "placeholder": "​",
            "style": "IPY_MODEL_70be8a3e2bed43e19434bb4f9bd15d9b",
            "value": "Downloading data: 100%"
          }
        },
        "c5fabd80a4a149a2a0a35e11ebb84f75": {
          "model_module": "@jupyter-widgets/controls",
          "model_name": "FloatProgressModel",
          "model_module_version": "1.5.0",
          "state": {
            "_dom_classes": [],
            "_model_module": "@jupyter-widgets/controls",
            "_model_module_version": "1.5.0",
            "_model_name": "FloatProgressModel",
            "_view_count": null,
            "_view_module": "@jupyter-widgets/controls",
            "_view_module_version": "1.5.0",
            "_view_name": "ProgressView",
            "bar_style": "success",
            "description": "",
            "description_tooltip": null,
            "layout": "IPY_MODEL_2c78de489c16496c935a5f633c30fc96",
            "max": 18585438,
            "min": 0,
            "orientation": "horizontal",
            "style": "IPY_MODEL_9a291b1bffbf42f9b9a84d92c8667c4c",
            "value": 18585438
          }
        },
        "abc1dbc2a8d244a78ab3b1d6980cdab7": {
          "model_module": "@jupyter-widgets/controls",
          "model_name": "HTMLModel",
          "model_module_version": "1.5.0",
          "state": {
            "_dom_classes": [],
            "_model_module": "@jupyter-widgets/controls",
            "_model_module_version": "1.5.0",
            "_model_name": "HTMLModel",
            "_view_count": null,
            "_view_module": "@jupyter-widgets/controls",
            "_view_module_version": "1.5.0",
            "_view_name": "HTMLView",
            "description": "",
            "description_tooltip": null,
            "layout": "IPY_MODEL_274612e3218944e18d798202fbb12c8e",
            "placeholder": "​",
            "style": "IPY_MODEL_106b0d5a21914ae7ac81f935e00afa2c",
            "value": " 18.6M/18.6M [00:00&lt;00:00, 18.2MB/s]"
          }
        },
        "7701a27b3ccc4a078f56c9eba789aea4": {
          "model_module": "@jupyter-widgets/base",
          "model_name": "LayoutModel",
          "model_module_version": "1.2.0",
          "state": {
            "_model_module": "@jupyter-widgets/base",
            "_model_module_version": "1.2.0",
            "_model_name": "LayoutModel",
            "_view_count": null,
            "_view_module": "@jupyter-widgets/base",
            "_view_module_version": "1.2.0",
            "_view_name": "LayoutView",
            "align_content": null,
            "align_items": null,
            "align_self": null,
            "border": null,
            "bottom": null,
            "display": null,
            "flex": null,
            "flex_flow": null,
            "grid_area": null,
            "grid_auto_columns": null,
            "grid_auto_flow": null,
            "grid_auto_rows": null,
            "grid_column": null,
            "grid_gap": null,
            "grid_row": null,
            "grid_template_areas": null,
            "grid_template_columns": null,
            "grid_template_rows": null,
            "height": null,
            "justify_content": null,
            "justify_items": null,
            "left": null,
            "margin": null,
            "max_height": null,
            "max_width": null,
            "min_height": null,
            "min_width": null,
            "object_fit": null,
            "object_position": null,
            "order": null,
            "overflow": null,
            "overflow_x": null,
            "overflow_y": null,
            "padding": null,
            "right": null,
            "top": null,
            "visibility": null,
            "width": null
          }
        },
        "39350900b7d2400b864bed1644b4d930": {
          "model_module": "@jupyter-widgets/base",
          "model_name": "LayoutModel",
          "model_module_version": "1.2.0",
          "state": {
            "_model_module": "@jupyter-widgets/base",
            "_model_module_version": "1.2.0",
            "_model_name": "LayoutModel",
            "_view_count": null,
            "_view_module": "@jupyter-widgets/base",
            "_view_module_version": "1.2.0",
            "_view_name": "LayoutView",
            "align_content": null,
            "align_items": null,
            "align_self": null,
            "border": null,
            "bottom": null,
            "display": null,
            "flex": null,
            "flex_flow": null,
            "grid_area": null,
            "grid_auto_columns": null,
            "grid_auto_flow": null,
            "grid_auto_rows": null,
            "grid_column": null,
            "grid_gap": null,
            "grid_row": null,
            "grid_template_areas": null,
            "grid_template_columns": null,
            "grid_template_rows": null,
            "height": null,
            "justify_content": null,
            "justify_items": null,
            "left": null,
            "margin": null,
            "max_height": null,
            "max_width": null,
            "min_height": null,
            "min_width": null,
            "object_fit": null,
            "object_position": null,
            "order": null,
            "overflow": null,
            "overflow_x": null,
            "overflow_y": null,
            "padding": null,
            "right": null,
            "top": null,
            "visibility": null,
            "width": null
          }
        },
        "70be8a3e2bed43e19434bb4f9bd15d9b": {
          "model_module": "@jupyter-widgets/controls",
          "model_name": "DescriptionStyleModel",
          "model_module_version": "1.5.0",
          "state": {
            "_model_module": "@jupyter-widgets/controls",
            "_model_module_version": "1.5.0",
            "_model_name": "DescriptionStyleModel",
            "_view_count": null,
            "_view_module": "@jupyter-widgets/base",
            "_view_module_version": "1.2.0",
            "_view_name": "StyleView",
            "description_width": ""
          }
        },
        "2c78de489c16496c935a5f633c30fc96": {
          "model_module": "@jupyter-widgets/base",
          "model_name": "LayoutModel",
          "model_module_version": "1.2.0",
          "state": {
            "_model_module": "@jupyter-widgets/base",
            "_model_module_version": "1.2.0",
            "_model_name": "LayoutModel",
            "_view_count": null,
            "_view_module": "@jupyter-widgets/base",
            "_view_module_version": "1.2.0",
            "_view_name": "LayoutView",
            "align_content": null,
            "align_items": null,
            "align_self": null,
            "border": null,
            "bottom": null,
            "display": null,
            "flex": null,
            "flex_flow": null,
            "grid_area": null,
            "grid_auto_columns": null,
            "grid_auto_flow": null,
            "grid_auto_rows": null,
            "grid_column": null,
            "grid_gap": null,
            "grid_row": null,
            "grid_template_areas": null,
            "grid_template_columns": null,
            "grid_template_rows": null,
            "height": null,
            "justify_content": null,
            "justify_items": null,
            "left": null,
            "margin": null,
            "max_height": null,
            "max_width": null,
            "min_height": null,
            "min_width": null,
            "object_fit": null,
            "object_position": null,
            "order": null,
            "overflow": null,
            "overflow_x": null,
            "overflow_y": null,
            "padding": null,
            "right": null,
            "top": null,
            "visibility": null,
            "width": null
          }
        },
        "9a291b1bffbf42f9b9a84d92c8667c4c": {
          "model_module": "@jupyter-widgets/controls",
          "model_name": "ProgressStyleModel",
          "model_module_version": "1.5.0",
          "state": {
            "_model_module": "@jupyter-widgets/controls",
            "_model_module_version": "1.5.0",
            "_model_name": "ProgressStyleModel",
            "_view_count": null,
            "_view_module": "@jupyter-widgets/base",
            "_view_module_version": "1.2.0",
            "_view_name": "StyleView",
            "bar_color": null,
            "description_width": ""
          }
        },
        "274612e3218944e18d798202fbb12c8e": {
          "model_module": "@jupyter-widgets/base",
          "model_name": "LayoutModel",
          "model_module_version": "1.2.0",
          "state": {
            "_model_module": "@jupyter-widgets/base",
            "_model_module_version": "1.2.0",
            "_model_name": "LayoutModel",
            "_view_count": null,
            "_view_module": "@jupyter-widgets/base",
            "_view_module_version": "1.2.0",
            "_view_name": "LayoutView",
            "align_content": null,
            "align_items": null,
            "align_self": null,
            "border": null,
            "bottom": null,
            "display": null,
            "flex": null,
            "flex_flow": null,
            "grid_area": null,
            "grid_auto_columns": null,
            "grid_auto_flow": null,
            "grid_auto_rows": null,
            "grid_column": null,
            "grid_gap": null,
            "grid_row": null,
            "grid_template_areas": null,
            "grid_template_columns": null,
            "grid_template_rows": null,
            "height": null,
            "justify_content": null,
            "justify_items": null,
            "left": null,
            "margin": null,
            "max_height": null,
            "max_width": null,
            "min_height": null,
            "min_width": null,
            "object_fit": null,
            "object_position": null,
            "order": null,
            "overflow": null,
            "overflow_x": null,
            "overflow_y": null,
            "padding": null,
            "right": null,
            "top": null,
            "visibility": null,
            "width": null
          }
        },
        "106b0d5a21914ae7ac81f935e00afa2c": {
          "model_module": "@jupyter-widgets/controls",
          "model_name": "DescriptionStyleModel",
          "model_module_version": "1.5.0",
          "state": {
            "_model_module": "@jupyter-widgets/controls",
            "_model_module_version": "1.5.0",
            "_model_name": "DescriptionStyleModel",
            "_view_count": null,
            "_view_module": "@jupyter-widgets/base",
            "_view_module_version": "1.2.0",
            "_view_name": "StyleView",
            "description_width": ""
          }
        },
        "73df5fe16cef4ac3a83352ff99944e75": {
          "model_module": "@jupyter-widgets/controls",
          "model_name": "HBoxModel",
          "model_module_version": "1.5.0",
          "state": {
            "_dom_classes": [],
            "_model_module": "@jupyter-widgets/controls",
            "_model_module_version": "1.5.0",
            "_model_name": "HBoxModel",
            "_view_count": null,
            "_view_module": "@jupyter-widgets/controls",
            "_view_module_version": "1.5.0",
            "_view_name": "HBoxView",
            "box_style": "",
            "children": [
              "IPY_MODEL_5981f97b766b4457a767c479f59691a1",
              "IPY_MODEL_740b7833e3a048c187e9331f471285ab",
              "IPY_MODEL_87a4925d741f43bfb0a449b324bc2be6"
            ],
            "layout": "IPY_MODEL_a7c50eae6bb34a928bd839d03cdda937"
          }
        },
        "5981f97b766b4457a767c479f59691a1": {
          "model_module": "@jupyter-widgets/controls",
          "model_name": "HTMLModel",
          "model_module_version": "1.5.0",
          "state": {
            "_dom_classes": [],
            "_model_module": "@jupyter-widgets/controls",
            "_model_module_version": "1.5.0",
            "_model_name": "HTMLModel",
            "_view_count": null,
            "_view_module": "@jupyter-widgets/controls",
            "_view_module_version": "1.5.0",
            "_view_name": "HTMLView",
            "description": "",
            "description_tooltip": null,
            "layout": "IPY_MODEL_791c3c1a892e40ae8ca3ff25bfa903b6",
            "placeholder": "​",
            "style": "IPY_MODEL_5f7bac038f194fa296a17098ad2ad151",
            "value": "Downloading data: 100%"
          }
        },
        "740b7833e3a048c187e9331f471285ab": {
          "model_module": "@jupyter-widgets/controls",
          "model_name": "FloatProgressModel",
          "model_module_version": "1.5.0",
          "state": {
            "_dom_classes": [],
            "_model_module": "@jupyter-widgets/controls",
            "_model_module_version": "1.5.0",
            "_model_name": "FloatProgressModel",
            "_view_count": null,
            "_view_module": "@jupyter-widgets/controls",
            "_view_module_version": "1.5.0",
            "_view_name": "ProgressView",
            "bar_style": "success",
            "description": "",
            "description_tooltip": null,
            "layout": "IPY_MODEL_6f80a784eefd45c2a3344cce8352c38c",
            "max": 1234829,
            "min": 0,
            "orientation": "horizontal",
            "style": "IPY_MODEL_a788a78c446e4346a10b32a891a9befb",
            "value": 1234829
          }
        },
        "87a4925d741f43bfb0a449b324bc2be6": {
          "model_module": "@jupyter-widgets/controls",
          "model_name": "HTMLModel",
          "model_module_version": "1.5.0",
          "state": {
            "_dom_classes": [],
            "_model_module": "@jupyter-widgets/controls",
            "_model_module_version": "1.5.0",
            "_model_name": "HTMLModel",
            "_view_count": null,
            "_view_module": "@jupyter-widgets/controls",
            "_view_module_version": "1.5.0",
            "_view_name": "HTMLView",
            "description": "",
            "description_tooltip": null,
            "layout": "IPY_MODEL_82259d2233424e07a9ac33ce65683333",
            "placeholder": "​",
            "style": "IPY_MODEL_b9b20037815c4354ad2e629681e0121f",
            "value": " 1.23M/1.23M [00:00&lt;00:00, 10.5MB/s]"
          }
        },
        "a7c50eae6bb34a928bd839d03cdda937": {
          "model_module": "@jupyter-widgets/base",
          "model_name": "LayoutModel",
          "model_module_version": "1.2.0",
          "state": {
            "_model_module": "@jupyter-widgets/base",
            "_model_module_version": "1.2.0",
            "_model_name": "LayoutModel",
            "_view_count": null,
            "_view_module": "@jupyter-widgets/base",
            "_view_module_version": "1.2.0",
            "_view_name": "LayoutView",
            "align_content": null,
            "align_items": null,
            "align_self": null,
            "border": null,
            "bottom": null,
            "display": null,
            "flex": null,
            "flex_flow": null,
            "grid_area": null,
            "grid_auto_columns": null,
            "grid_auto_flow": null,
            "grid_auto_rows": null,
            "grid_column": null,
            "grid_gap": null,
            "grid_row": null,
            "grid_template_areas": null,
            "grid_template_columns": null,
            "grid_template_rows": null,
            "height": null,
            "justify_content": null,
            "justify_items": null,
            "left": null,
            "margin": null,
            "max_height": null,
            "max_width": null,
            "min_height": null,
            "min_width": null,
            "object_fit": null,
            "object_position": null,
            "order": null,
            "overflow": null,
            "overflow_x": null,
            "overflow_y": null,
            "padding": null,
            "right": null,
            "top": null,
            "visibility": null,
            "width": null
          }
        },
        "791c3c1a892e40ae8ca3ff25bfa903b6": {
          "model_module": "@jupyter-widgets/base",
          "model_name": "LayoutModel",
          "model_module_version": "1.2.0",
          "state": {
            "_model_module": "@jupyter-widgets/base",
            "_model_module_version": "1.2.0",
            "_model_name": "LayoutModel",
            "_view_count": null,
            "_view_module": "@jupyter-widgets/base",
            "_view_module_version": "1.2.0",
            "_view_name": "LayoutView",
            "align_content": null,
            "align_items": null,
            "align_self": null,
            "border": null,
            "bottom": null,
            "display": null,
            "flex": null,
            "flex_flow": null,
            "grid_area": null,
            "grid_auto_columns": null,
            "grid_auto_flow": null,
            "grid_auto_rows": null,
            "grid_column": null,
            "grid_gap": null,
            "grid_row": null,
            "grid_template_areas": null,
            "grid_template_columns": null,
            "grid_template_rows": null,
            "height": null,
            "justify_content": null,
            "justify_items": null,
            "left": null,
            "margin": null,
            "max_height": null,
            "max_width": null,
            "min_height": null,
            "min_width": null,
            "object_fit": null,
            "object_position": null,
            "order": null,
            "overflow": null,
            "overflow_x": null,
            "overflow_y": null,
            "padding": null,
            "right": null,
            "top": null,
            "visibility": null,
            "width": null
          }
        },
        "5f7bac038f194fa296a17098ad2ad151": {
          "model_module": "@jupyter-widgets/controls",
          "model_name": "DescriptionStyleModel",
          "model_module_version": "1.5.0",
          "state": {
            "_model_module": "@jupyter-widgets/controls",
            "_model_module_version": "1.5.0",
            "_model_name": "DescriptionStyleModel",
            "_view_count": null,
            "_view_module": "@jupyter-widgets/base",
            "_view_module_version": "1.2.0",
            "_view_name": "StyleView",
            "description_width": ""
          }
        },
        "6f80a784eefd45c2a3344cce8352c38c": {
          "model_module": "@jupyter-widgets/base",
          "model_name": "LayoutModel",
          "model_module_version": "1.2.0",
          "state": {
            "_model_module": "@jupyter-widgets/base",
            "_model_module_version": "1.2.0",
            "_model_name": "LayoutModel",
            "_view_count": null,
            "_view_module": "@jupyter-widgets/base",
            "_view_module_version": "1.2.0",
            "_view_name": "LayoutView",
            "align_content": null,
            "align_items": null,
            "align_self": null,
            "border": null,
            "bottom": null,
            "display": null,
            "flex": null,
            "flex_flow": null,
            "grid_area": null,
            "grid_auto_columns": null,
            "grid_auto_flow": null,
            "grid_auto_rows": null,
            "grid_column": null,
            "grid_gap": null,
            "grid_row": null,
            "grid_template_areas": null,
            "grid_template_columns": null,
            "grid_template_rows": null,
            "height": null,
            "justify_content": null,
            "justify_items": null,
            "left": null,
            "margin": null,
            "max_height": null,
            "max_width": null,
            "min_height": null,
            "min_width": null,
            "object_fit": null,
            "object_position": null,
            "order": null,
            "overflow": null,
            "overflow_x": null,
            "overflow_y": null,
            "padding": null,
            "right": null,
            "top": null,
            "visibility": null,
            "width": null
          }
        },
        "a788a78c446e4346a10b32a891a9befb": {
          "model_module": "@jupyter-widgets/controls",
          "model_name": "ProgressStyleModel",
          "model_module_version": "1.5.0",
          "state": {
            "_model_module": "@jupyter-widgets/controls",
            "_model_module_version": "1.5.0",
            "_model_name": "ProgressStyleModel",
            "_view_count": null,
            "_view_module": "@jupyter-widgets/base",
            "_view_module_version": "1.2.0",
            "_view_name": "StyleView",
            "bar_color": null,
            "description_width": ""
          }
        },
        "82259d2233424e07a9ac33ce65683333": {
          "model_module": "@jupyter-widgets/base",
          "model_name": "LayoutModel",
          "model_module_version": "1.2.0",
          "state": {
            "_model_module": "@jupyter-widgets/base",
            "_model_module_version": "1.2.0",
            "_model_name": "LayoutModel",
            "_view_count": null,
            "_view_module": "@jupyter-widgets/base",
            "_view_module_version": "1.2.0",
            "_view_name": "LayoutView",
            "align_content": null,
            "align_items": null,
            "align_self": null,
            "border": null,
            "bottom": null,
            "display": null,
            "flex": null,
            "flex_flow": null,
            "grid_area": null,
            "grid_auto_columns": null,
            "grid_auto_flow": null,
            "grid_auto_rows": null,
            "grid_column": null,
            "grid_gap": null,
            "grid_row": null,
            "grid_template_areas": null,
            "grid_template_columns": null,
            "grid_template_rows": null,
            "height": null,
            "justify_content": null,
            "justify_items": null,
            "left": null,
            "margin": null,
            "max_height": null,
            "max_width": null,
            "min_height": null,
            "min_width": null,
            "object_fit": null,
            "object_position": null,
            "order": null,
            "overflow": null,
            "overflow_x": null,
            "overflow_y": null,
            "padding": null,
            "right": null,
            "top": null,
            "visibility": null,
            "width": null
          }
        },
        "b9b20037815c4354ad2e629681e0121f": {
          "model_module": "@jupyter-widgets/controls",
          "model_name": "DescriptionStyleModel",
          "model_module_version": "1.5.0",
          "state": {
            "_model_module": "@jupyter-widgets/controls",
            "_model_module_version": "1.5.0",
            "_model_name": "DescriptionStyleModel",
            "_view_count": null,
            "_view_module": "@jupyter-widgets/base",
            "_view_module_version": "1.2.0",
            "_view_name": "StyleView",
            "description_width": ""
          }
        },
        "cb2b4e1fe69145b59d896d7ce5e5096b": {
          "model_module": "@jupyter-widgets/controls",
          "model_name": "HBoxModel",
          "model_module_version": "1.5.0",
          "state": {
            "_dom_classes": [],
            "_model_module": "@jupyter-widgets/controls",
            "_model_module_version": "1.5.0",
            "_model_name": "HBoxModel",
            "_view_count": null,
            "_view_module": "@jupyter-widgets/controls",
            "_view_module_version": "1.5.0",
            "_view_name": "HBoxView",
            "box_style": "",
            "children": [
              "IPY_MODEL_748691ab929b49138909c340839ac9cb",
              "IPY_MODEL_bdc7397543d44653814f3078f1a19b3e",
              "IPY_MODEL_044cfb7681284443a5e9ea90074711b6"
            ],
            "layout": "IPY_MODEL_7dc9008506c04e9cb907e880b7577453"
          }
        },
        "748691ab929b49138909c340839ac9cb": {
          "model_module": "@jupyter-widgets/controls",
          "model_name": "HTMLModel",
          "model_module_version": "1.5.0",
          "state": {
            "_dom_classes": [],
            "_model_module": "@jupyter-widgets/controls",
            "_model_module_version": "1.5.0",
            "_model_name": "HTMLModel",
            "_view_count": null,
            "_view_module": "@jupyter-widgets/controls",
            "_view_module_version": "1.5.0",
            "_view_name": "HTMLView",
            "description": "",
            "description_tooltip": null,
            "layout": "IPY_MODEL_af2d02534da442a0be3a0f0949c6dcf8",
            "placeholder": "​",
            "style": "IPY_MODEL_a28a2b703547468583a0cbef4afd0a18",
            "value": "Generating train split: 100%"
          }
        },
        "bdc7397543d44653814f3078f1a19b3e": {
          "model_module": "@jupyter-widgets/controls",
          "model_name": "FloatProgressModel",
          "model_module_version": "1.5.0",
          "state": {
            "_dom_classes": [],
            "_model_module": "@jupyter-widgets/controls",
            "_model_module_version": "1.5.0",
            "_model_name": "FloatProgressModel",
            "_view_count": null,
            "_view_module": "@jupyter-widgets/controls",
            "_view_module_version": "1.5.0",
            "_view_name": "ProgressView",
            "bar_style": "success",
            "description": "",
            "description_tooltip": null,
            "layout": "IPY_MODEL_43893b6f5e514b9899fb6d054e773c35",
            "max": 120000,
            "min": 0,
            "orientation": "horizontal",
            "style": "IPY_MODEL_6b649ed1504148428333dc41f45fca63",
            "value": 120000
          }
        },
        "044cfb7681284443a5e9ea90074711b6": {
          "model_module": "@jupyter-widgets/controls",
          "model_name": "HTMLModel",
          "model_module_version": "1.5.0",
          "state": {
            "_dom_classes": [],
            "_model_module": "@jupyter-widgets/controls",
            "_model_module_version": "1.5.0",
            "_model_name": "HTMLModel",
            "_view_count": null,
            "_view_module": "@jupyter-widgets/controls",
            "_view_module_version": "1.5.0",
            "_view_name": "HTMLView",
            "description": "",
            "description_tooltip": null,
            "layout": "IPY_MODEL_9f8bfba8f724419da76219633830d8fd",
            "placeholder": "​",
            "style": "IPY_MODEL_1f843aa164fd45c18c194da22c7b4708",
            "value": " 120000/120000 [00:00&lt;00:00, 429168.68 examples/s]"
          }
        },
        "7dc9008506c04e9cb907e880b7577453": {
          "model_module": "@jupyter-widgets/base",
          "model_name": "LayoutModel",
          "model_module_version": "1.2.0",
          "state": {
            "_model_module": "@jupyter-widgets/base",
            "_model_module_version": "1.2.0",
            "_model_name": "LayoutModel",
            "_view_count": null,
            "_view_module": "@jupyter-widgets/base",
            "_view_module_version": "1.2.0",
            "_view_name": "LayoutView",
            "align_content": null,
            "align_items": null,
            "align_self": null,
            "border": null,
            "bottom": null,
            "display": null,
            "flex": null,
            "flex_flow": null,
            "grid_area": null,
            "grid_auto_columns": null,
            "grid_auto_flow": null,
            "grid_auto_rows": null,
            "grid_column": null,
            "grid_gap": null,
            "grid_row": null,
            "grid_template_areas": null,
            "grid_template_columns": null,
            "grid_template_rows": null,
            "height": null,
            "justify_content": null,
            "justify_items": null,
            "left": null,
            "margin": null,
            "max_height": null,
            "max_width": null,
            "min_height": null,
            "min_width": null,
            "object_fit": null,
            "object_position": null,
            "order": null,
            "overflow": null,
            "overflow_x": null,
            "overflow_y": null,
            "padding": null,
            "right": null,
            "top": null,
            "visibility": null,
            "width": null
          }
        },
        "af2d02534da442a0be3a0f0949c6dcf8": {
          "model_module": "@jupyter-widgets/base",
          "model_name": "LayoutModel",
          "model_module_version": "1.2.0",
          "state": {
            "_model_module": "@jupyter-widgets/base",
            "_model_module_version": "1.2.0",
            "_model_name": "LayoutModel",
            "_view_count": null,
            "_view_module": "@jupyter-widgets/base",
            "_view_module_version": "1.2.0",
            "_view_name": "LayoutView",
            "align_content": null,
            "align_items": null,
            "align_self": null,
            "border": null,
            "bottom": null,
            "display": null,
            "flex": null,
            "flex_flow": null,
            "grid_area": null,
            "grid_auto_columns": null,
            "grid_auto_flow": null,
            "grid_auto_rows": null,
            "grid_column": null,
            "grid_gap": null,
            "grid_row": null,
            "grid_template_areas": null,
            "grid_template_columns": null,
            "grid_template_rows": null,
            "height": null,
            "justify_content": null,
            "justify_items": null,
            "left": null,
            "margin": null,
            "max_height": null,
            "max_width": null,
            "min_height": null,
            "min_width": null,
            "object_fit": null,
            "object_position": null,
            "order": null,
            "overflow": null,
            "overflow_x": null,
            "overflow_y": null,
            "padding": null,
            "right": null,
            "top": null,
            "visibility": null,
            "width": null
          }
        },
        "a28a2b703547468583a0cbef4afd0a18": {
          "model_module": "@jupyter-widgets/controls",
          "model_name": "DescriptionStyleModel",
          "model_module_version": "1.5.0",
          "state": {
            "_model_module": "@jupyter-widgets/controls",
            "_model_module_version": "1.5.0",
            "_model_name": "DescriptionStyleModel",
            "_view_count": null,
            "_view_module": "@jupyter-widgets/base",
            "_view_module_version": "1.2.0",
            "_view_name": "StyleView",
            "description_width": ""
          }
        },
        "43893b6f5e514b9899fb6d054e773c35": {
          "model_module": "@jupyter-widgets/base",
          "model_name": "LayoutModel",
          "model_module_version": "1.2.0",
          "state": {
            "_model_module": "@jupyter-widgets/base",
            "_model_module_version": "1.2.0",
            "_model_name": "LayoutModel",
            "_view_count": null,
            "_view_module": "@jupyter-widgets/base",
            "_view_module_version": "1.2.0",
            "_view_name": "LayoutView",
            "align_content": null,
            "align_items": null,
            "align_self": null,
            "border": null,
            "bottom": null,
            "display": null,
            "flex": null,
            "flex_flow": null,
            "grid_area": null,
            "grid_auto_columns": null,
            "grid_auto_flow": null,
            "grid_auto_rows": null,
            "grid_column": null,
            "grid_gap": null,
            "grid_row": null,
            "grid_template_areas": null,
            "grid_template_columns": null,
            "grid_template_rows": null,
            "height": null,
            "justify_content": null,
            "justify_items": null,
            "left": null,
            "margin": null,
            "max_height": null,
            "max_width": null,
            "min_height": null,
            "min_width": null,
            "object_fit": null,
            "object_position": null,
            "order": null,
            "overflow": null,
            "overflow_x": null,
            "overflow_y": null,
            "padding": null,
            "right": null,
            "top": null,
            "visibility": null,
            "width": null
          }
        },
        "6b649ed1504148428333dc41f45fca63": {
          "model_module": "@jupyter-widgets/controls",
          "model_name": "ProgressStyleModel",
          "model_module_version": "1.5.0",
          "state": {
            "_model_module": "@jupyter-widgets/controls",
            "_model_module_version": "1.5.0",
            "_model_name": "ProgressStyleModel",
            "_view_count": null,
            "_view_module": "@jupyter-widgets/base",
            "_view_module_version": "1.2.0",
            "_view_name": "StyleView",
            "bar_color": null,
            "description_width": ""
          }
        },
        "9f8bfba8f724419da76219633830d8fd": {
          "model_module": "@jupyter-widgets/base",
          "model_name": "LayoutModel",
          "model_module_version": "1.2.0",
          "state": {
            "_model_module": "@jupyter-widgets/base",
            "_model_module_version": "1.2.0",
            "_model_name": "LayoutModel",
            "_view_count": null,
            "_view_module": "@jupyter-widgets/base",
            "_view_module_version": "1.2.0",
            "_view_name": "LayoutView",
            "align_content": null,
            "align_items": null,
            "align_self": null,
            "border": null,
            "bottom": null,
            "display": null,
            "flex": null,
            "flex_flow": null,
            "grid_area": null,
            "grid_auto_columns": null,
            "grid_auto_flow": null,
            "grid_auto_rows": null,
            "grid_column": null,
            "grid_gap": null,
            "grid_row": null,
            "grid_template_areas": null,
            "grid_template_columns": null,
            "grid_template_rows": null,
            "height": null,
            "justify_content": null,
            "justify_items": null,
            "left": null,
            "margin": null,
            "max_height": null,
            "max_width": null,
            "min_height": null,
            "min_width": null,
            "object_fit": null,
            "object_position": null,
            "order": null,
            "overflow": null,
            "overflow_x": null,
            "overflow_y": null,
            "padding": null,
            "right": null,
            "top": null,
            "visibility": null,
            "width": null
          }
        },
        "1f843aa164fd45c18c194da22c7b4708": {
          "model_module": "@jupyter-widgets/controls",
          "model_name": "DescriptionStyleModel",
          "model_module_version": "1.5.0",
          "state": {
            "_model_module": "@jupyter-widgets/controls",
            "_model_module_version": "1.5.0",
            "_model_name": "DescriptionStyleModel",
            "_view_count": null,
            "_view_module": "@jupyter-widgets/base",
            "_view_module_version": "1.2.0",
            "_view_name": "StyleView",
            "description_width": ""
          }
        },
        "874becd575cf42fca3baed2b7b56d241": {
          "model_module": "@jupyter-widgets/controls",
          "model_name": "HBoxModel",
          "model_module_version": "1.5.0",
          "state": {
            "_dom_classes": [],
            "_model_module": "@jupyter-widgets/controls",
            "_model_module_version": "1.5.0",
            "_model_name": "HBoxModel",
            "_view_count": null,
            "_view_module": "@jupyter-widgets/controls",
            "_view_module_version": "1.5.0",
            "_view_name": "HBoxView",
            "box_style": "",
            "children": [
              "IPY_MODEL_ef9cc514c0a547a884e21ca7e499acf6",
              "IPY_MODEL_804956a4963d4e35ae46e4bf79013ee5",
              "IPY_MODEL_d465b2971c6244879b5ae2d12111c701"
            ],
            "layout": "IPY_MODEL_94f74a9b745f4f7ca7b0c4dbd5ca405f"
          }
        },
        "ef9cc514c0a547a884e21ca7e499acf6": {
          "model_module": "@jupyter-widgets/controls",
          "model_name": "HTMLModel",
          "model_module_version": "1.5.0",
          "state": {
            "_dom_classes": [],
            "_model_module": "@jupyter-widgets/controls",
            "_model_module_version": "1.5.0",
            "_model_name": "HTMLModel",
            "_view_count": null,
            "_view_module": "@jupyter-widgets/controls",
            "_view_module_version": "1.5.0",
            "_view_name": "HTMLView",
            "description": "",
            "description_tooltip": null,
            "layout": "IPY_MODEL_c1d9345f1913486ca62375b301d137b9",
            "placeholder": "​",
            "style": "IPY_MODEL_43a1e1e135a44c0b8599396686eb9387",
            "value": "Generating test split: 100%"
          }
        },
        "804956a4963d4e35ae46e4bf79013ee5": {
          "model_module": "@jupyter-widgets/controls",
          "model_name": "FloatProgressModel",
          "model_module_version": "1.5.0",
          "state": {
            "_dom_classes": [],
            "_model_module": "@jupyter-widgets/controls",
            "_model_module_version": "1.5.0",
            "_model_name": "FloatProgressModel",
            "_view_count": null,
            "_view_module": "@jupyter-widgets/controls",
            "_view_module_version": "1.5.0",
            "_view_name": "ProgressView",
            "bar_style": "success",
            "description": "",
            "description_tooltip": null,
            "layout": "IPY_MODEL_c60111efb090478380481e299b792e3c",
            "max": 7600,
            "min": 0,
            "orientation": "horizontal",
            "style": "IPY_MODEL_8d9ad100149d493ab99b6baf5c433808",
            "value": 7600
          }
        },
        "d465b2971c6244879b5ae2d12111c701": {
          "model_module": "@jupyter-widgets/controls",
          "model_name": "HTMLModel",
          "model_module_version": "1.5.0",
          "state": {
            "_dom_classes": [],
            "_model_module": "@jupyter-widgets/controls",
            "_model_module_version": "1.5.0",
            "_model_name": "HTMLModel",
            "_view_count": null,
            "_view_module": "@jupyter-widgets/controls",
            "_view_module_version": "1.5.0",
            "_view_name": "HTMLView",
            "description": "",
            "description_tooltip": null,
            "layout": "IPY_MODEL_635f41917539496ea97c50e971e1e712",
            "placeholder": "​",
            "style": "IPY_MODEL_8edcb16965e64e77a1486a3defc66a19",
            "value": " 7600/7600 [00:00&lt;00:00, 168602.75 examples/s]"
          }
        },
        "94f74a9b745f4f7ca7b0c4dbd5ca405f": {
          "model_module": "@jupyter-widgets/base",
          "model_name": "LayoutModel",
          "model_module_version": "1.2.0",
          "state": {
            "_model_module": "@jupyter-widgets/base",
            "_model_module_version": "1.2.0",
            "_model_name": "LayoutModel",
            "_view_count": null,
            "_view_module": "@jupyter-widgets/base",
            "_view_module_version": "1.2.0",
            "_view_name": "LayoutView",
            "align_content": null,
            "align_items": null,
            "align_self": null,
            "border": null,
            "bottom": null,
            "display": null,
            "flex": null,
            "flex_flow": null,
            "grid_area": null,
            "grid_auto_columns": null,
            "grid_auto_flow": null,
            "grid_auto_rows": null,
            "grid_column": null,
            "grid_gap": null,
            "grid_row": null,
            "grid_template_areas": null,
            "grid_template_columns": null,
            "grid_template_rows": null,
            "height": null,
            "justify_content": null,
            "justify_items": null,
            "left": null,
            "margin": null,
            "max_height": null,
            "max_width": null,
            "min_height": null,
            "min_width": null,
            "object_fit": null,
            "object_position": null,
            "order": null,
            "overflow": null,
            "overflow_x": null,
            "overflow_y": null,
            "padding": null,
            "right": null,
            "top": null,
            "visibility": null,
            "width": null
          }
        },
        "c1d9345f1913486ca62375b301d137b9": {
          "model_module": "@jupyter-widgets/base",
          "model_name": "LayoutModel",
          "model_module_version": "1.2.0",
          "state": {
            "_model_module": "@jupyter-widgets/base",
            "_model_module_version": "1.2.0",
            "_model_name": "LayoutModel",
            "_view_count": null,
            "_view_module": "@jupyter-widgets/base",
            "_view_module_version": "1.2.0",
            "_view_name": "LayoutView",
            "align_content": null,
            "align_items": null,
            "align_self": null,
            "border": null,
            "bottom": null,
            "display": null,
            "flex": null,
            "flex_flow": null,
            "grid_area": null,
            "grid_auto_columns": null,
            "grid_auto_flow": null,
            "grid_auto_rows": null,
            "grid_column": null,
            "grid_gap": null,
            "grid_row": null,
            "grid_template_areas": null,
            "grid_template_columns": null,
            "grid_template_rows": null,
            "height": null,
            "justify_content": null,
            "justify_items": null,
            "left": null,
            "margin": null,
            "max_height": null,
            "max_width": null,
            "min_height": null,
            "min_width": null,
            "object_fit": null,
            "object_position": null,
            "order": null,
            "overflow": null,
            "overflow_x": null,
            "overflow_y": null,
            "padding": null,
            "right": null,
            "top": null,
            "visibility": null,
            "width": null
          }
        },
        "43a1e1e135a44c0b8599396686eb9387": {
          "model_module": "@jupyter-widgets/controls",
          "model_name": "DescriptionStyleModel",
          "model_module_version": "1.5.0",
          "state": {
            "_model_module": "@jupyter-widgets/controls",
            "_model_module_version": "1.5.0",
            "_model_name": "DescriptionStyleModel",
            "_view_count": null,
            "_view_module": "@jupyter-widgets/base",
            "_view_module_version": "1.2.0",
            "_view_name": "StyleView",
            "description_width": ""
          }
        },
        "c60111efb090478380481e299b792e3c": {
          "model_module": "@jupyter-widgets/base",
          "model_name": "LayoutModel",
          "model_module_version": "1.2.0",
          "state": {
            "_model_module": "@jupyter-widgets/base",
            "_model_module_version": "1.2.0",
            "_model_name": "LayoutModel",
            "_view_count": null,
            "_view_module": "@jupyter-widgets/base",
            "_view_module_version": "1.2.0",
            "_view_name": "LayoutView",
            "align_content": null,
            "align_items": null,
            "align_self": null,
            "border": null,
            "bottom": null,
            "display": null,
            "flex": null,
            "flex_flow": null,
            "grid_area": null,
            "grid_auto_columns": null,
            "grid_auto_flow": null,
            "grid_auto_rows": null,
            "grid_column": null,
            "grid_gap": null,
            "grid_row": null,
            "grid_template_areas": null,
            "grid_template_columns": null,
            "grid_template_rows": null,
            "height": null,
            "justify_content": null,
            "justify_items": null,
            "left": null,
            "margin": null,
            "max_height": null,
            "max_width": null,
            "min_height": null,
            "min_width": null,
            "object_fit": null,
            "object_position": null,
            "order": null,
            "overflow": null,
            "overflow_x": null,
            "overflow_y": null,
            "padding": null,
            "right": null,
            "top": null,
            "visibility": null,
            "width": null
          }
        },
        "8d9ad100149d493ab99b6baf5c433808": {
          "model_module": "@jupyter-widgets/controls",
          "model_name": "ProgressStyleModel",
          "model_module_version": "1.5.0",
          "state": {
            "_model_module": "@jupyter-widgets/controls",
            "_model_module_version": "1.5.0",
            "_model_name": "ProgressStyleModel",
            "_view_count": null,
            "_view_module": "@jupyter-widgets/base",
            "_view_module_version": "1.2.0",
            "_view_name": "StyleView",
            "bar_color": null,
            "description_width": ""
          }
        },
        "635f41917539496ea97c50e971e1e712": {
          "model_module": "@jupyter-widgets/base",
          "model_name": "LayoutModel",
          "model_module_version": "1.2.0",
          "state": {
            "_model_module": "@jupyter-widgets/base",
            "_model_module_version": "1.2.0",
            "_model_name": "LayoutModel",
            "_view_count": null,
            "_view_module": "@jupyter-widgets/base",
            "_view_module_version": "1.2.0",
            "_view_name": "LayoutView",
            "align_content": null,
            "align_items": null,
            "align_self": null,
            "border": null,
            "bottom": null,
            "display": null,
            "flex": null,
            "flex_flow": null,
            "grid_area": null,
            "grid_auto_columns": null,
            "grid_auto_flow": null,
            "grid_auto_rows": null,
            "grid_column": null,
            "grid_gap": null,
            "grid_row": null,
            "grid_template_areas": null,
            "grid_template_columns": null,
            "grid_template_rows": null,
            "height": null,
            "justify_content": null,
            "justify_items": null,
            "left": null,
            "margin": null,
            "max_height": null,
            "max_width": null,
            "min_height": null,
            "min_width": null,
            "object_fit": null,
            "object_position": null,
            "order": null,
            "overflow": null,
            "overflow_x": null,
            "overflow_y": null,
            "padding": null,
            "right": null,
            "top": null,
            "visibility": null,
            "width": null
          }
        },
        "8edcb16965e64e77a1486a3defc66a19": {
          "model_module": "@jupyter-widgets/controls",
          "model_name": "DescriptionStyleModel",
          "model_module_version": "1.5.0",
          "state": {
            "_model_module": "@jupyter-widgets/controls",
            "_model_module_version": "1.5.0",
            "_model_name": "DescriptionStyleModel",
            "_view_count": null,
            "_view_module": "@jupyter-widgets/base",
            "_view_module_version": "1.2.0",
            "_view_name": "StyleView",
            "description_width": ""
          }
        }
      }
    }
  },
  "cells": [
    {
      "cell_type": "markdown",
      "metadata": {
        "id": "r8KttIgWyRlp"
      },
      "source": [
        "First, import some useful packages and set everything up."
      ]
    },
    {
      "cell_type": "code",
      "metadata": {
        "id": "KmyWsYNIyRlu",
        "colab": {
          "base_uri": "https://localhost:8080/"
        },
        "outputId": "2718674d-cdab-410f-c2b5-f0ac22505bfc"
      },
      "source": [
        "%matplotlib inline\n",
        "!pip install datasets  # You can install custom packages on Google Colab by !pip install ...\n",
        "!pip install transformers\n",
        "\n",
        "import copy\n",
        "import datasets\n",
        "import itertools\n",
        "import matplotlib.pyplot as plt\n",
        "import nltk\n",
        "import numpy as np\n",
        "import os\n",
        "import pandas\n",
        "import random\n",
        "import seaborn\n",
        "\n",
        "from collections import Counter\n",
        "from transformers import BertTokenizer, RobertaTokenizer\n",
        "\n",
        "# For reproducibility, fix random seeds.\n",
        "random.seed(42)\n",
        "np.random.seed(42)"
      ],
      "execution_count": 1,
      "outputs": [
        {
          "output_type": "stream",
          "name": "stdout",
          "text": [
            "Collecting datasets\n",
            "  Downloading datasets-2.16.1-py3-none-any.whl (507 kB)\n",
            "\u001b[2K     \u001b[90m━━━━━━━━━━━━━━━━━━━━━━━━━━━━━━━━━━━━━━━━\u001b[0m \u001b[32m507.1/507.1 kB\u001b[0m \u001b[31m6.5 MB/s\u001b[0m eta \u001b[36m0:00:00\u001b[0m\n",
            "\u001b[?25hRequirement already satisfied: filelock in /usr/local/lib/python3.10/dist-packages (from datasets) (3.13.1)\n",
            "Requirement already satisfied: numpy>=1.17 in /usr/local/lib/python3.10/dist-packages (from datasets) (1.23.5)\n",
            "Requirement already satisfied: pyarrow>=8.0.0 in /usr/local/lib/python3.10/dist-packages (from datasets) (10.0.1)\n",
            "Requirement already satisfied: pyarrow-hotfix in /usr/local/lib/python3.10/dist-packages (from datasets) (0.6)\n",
            "Collecting dill<0.3.8,>=0.3.0 (from datasets)\n",
            "  Downloading dill-0.3.7-py3-none-any.whl (115 kB)\n",
            "\u001b[2K     \u001b[90m━━━━━━━━━━━━━━━━━━━━━━━━━━━━━━━━━━━━━━━━\u001b[0m \u001b[32m115.3/115.3 kB\u001b[0m \u001b[31m8.7 MB/s\u001b[0m eta \u001b[36m0:00:00\u001b[0m\n",
            "\u001b[?25hRequirement already satisfied: pandas in /usr/local/lib/python3.10/dist-packages (from datasets) (1.5.3)\n",
            "Requirement already satisfied: requests>=2.19.0 in /usr/local/lib/python3.10/dist-packages (from datasets) (2.31.0)\n",
            "Requirement already satisfied: tqdm>=4.62.1 in /usr/local/lib/python3.10/dist-packages (from datasets) (4.66.1)\n",
            "Requirement already satisfied: xxhash in /usr/local/lib/python3.10/dist-packages (from datasets) (3.4.1)\n",
            "Collecting multiprocess (from datasets)\n",
            "  Downloading multiprocess-0.70.16-py310-none-any.whl (134 kB)\n",
            "\u001b[2K     \u001b[90m━━━━━━━━━━━━━━━━━━━━━━━━━━━━━━━━━━━━━━━━\u001b[0m \u001b[32m134.8/134.8 kB\u001b[0m \u001b[31m4.6 MB/s\u001b[0m eta \u001b[36m0:00:00\u001b[0m\n",
            "\u001b[?25hRequirement already satisfied: fsspec[http]<=2023.10.0,>=2023.1.0 in /usr/local/lib/python3.10/dist-packages (from datasets) (2023.6.0)\n",
            "Requirement already satisfied: aiohttp in /usr/local/lib/python3.10/dist-packages (from datasets) (3.9.1)\n",
            "Requirement already satisfied: huggingface-hub>=0.19.4 in /usr/local/lib/python3.10/dist-packages (from datasets) (0.20.3)\n",
            "Requirement already satisfied: packaging in /usr/local/lib/python3.10/dist-packages (from datasets) (23.2)\n",
            "Requirement already satisfied: pyyaml>=5.1 in /usr/local/lib/python3.10/dist-packages (from datasets) (6.0.1)\n",
            "Requirement already satisfied: attrs>=17.3.0 in /usr/local/lib/python3.10/dist-packages (from aiohttp->datasets) (23.2.0)\n",
            "Requirement already satisfied: multidict<7.0,>=4.5 in /usr/local/lib/python3.10/dist-packages (from aiohttp->datasets) (6.0.4)\n",
            "Requirement already satisfied: yarl<2.0,>=1.0 in /usr/local/lib/python3.10/dist-packages (from aiohttp->datasets) (1.9.4)\n",
            "Requirement already satisfied: frozenlist>=1.1.1 in /usr/local/lib/python3.10/dist-packages (from aiohttp->datasets) (1.4.1)\n",
            "Requirement already satisfied: aiosignal>=1.1.2 in /usr/local/lib/python3.10/dist-packages (from aiohttp->datasets) (1.3.1)\n",
            "Requirement already satisfied: async-timeout<5.0,>=4.0 in /usr/local/lib/python3.10/dist-packages (from aiohttp->datasets) (4.0.3)\n",
            "Requirement already satisfied: typing-extensions>=3.7.4.3 in /usr/local/lib/python3.10/dist-packages (from huggingface-hub>=0.19.4->datasets) (4.5.0)\n",
            "Requirement already satisfied: charset-normalizer<4,>=2 in /usr/local/lib/python3.10/dist-packages (from requests>=2.19.0->datasets) (3.3.2)\n",
            "Requirement already satisfied: idna<4,>=2.5 in /usr/local/lib/python3.10/dist-packages (from requests>=2.19.0->datasets) (3.6)\n",
            "Requirement already satisfied: urllib3<3,>=1.21.1 in /usr/local/lib/python3.10/dist-packages (from requests>=2.19.0->datasets) (2.0.7)\n",
            "Requirement already satisfied: certifi>=2017.4.17 in /usr/local/lib/python3.10/dist-packages (from requests>=2.19.0->datasets) (2023.11.17)\n",
            "INFO: pip is looking at multiple versions of multiprocess to determine which version is compatible with other requirements. This could take a while.\n",
            "  Downloading multiprocess-0.70.15-py310-none-any.whl (134 kB)\n",
            "\u001b[2K     \u001b[90m━━━━━━━━━━━━━━━━━━━━━━━━━━━━━━━━━━━━━━━━\u001b[0m \u001b[32m134.8/134.8 kB\u001b[0m \u001b[31m3.7 MB/s\u001b[0m eta \u001b[36m0:00:00\u001b[0m\n",
            "\u001b[?25hRequirement already satisfied: python-dateutil>=2.8.1 in /usr/local/lib/python3.10/dist-packages (from pandas->datasets) (2.8.2)\n",
            "Requirement already satisfied: pytz>=2020.1 in /usr/local/lib/python3.10/dist-packages (from pandas->datasets) (2023.3.post1)\n",
            "Requirement already satisfied: six>=1.5 in /usr/local/lib/python3.10/dist-packages (from python-dateutil>=2.8.1->pandas->datasets) (1.16.0)\n",
            "Installing collected packages: dill, multiprocess, datasets\n",
            "Successfully installed datasets-2.16.1 dill-0.3.7 multiprocess-0.70.15\n",
            "Requirement already satisfied: transformers in /usr/local/lib/python3.10/dist-packages (4.35.2)\n",
            "Requirement already satisfied: filelock in /usr/local/lib/python3.10/dist-packages (from transformers) (3.13.1)\n",
            "Requirement already satisfied: huggingface-hub<1.0,>=0.16.4 in /usr/local/lib/python3.10/dist-packages (from transformers) (0.20.3)\n",
            "Requirement already satisfied: numpy>=1.17 in /usr/local/lib/python3.10/dist-packages (from transformers) (1.23.5)\n",
            "Requirement already satisfied: packaging>=20.0 in /usr/local/lib/python3.10/dist-packages (from transformers) (23.2)\n",
            "Requirement already satisfied: pyyaml>=5.1 in /usr/local/lib/python3.10/dist-packages (from transformers) (6.0.1)\n",
            "Requirement already satisfied: regex!=2019.12.17 in /usr/local/lib/python3.10/dist-packages (from transformers) (2023.6.3)\n",
            "Requirement already satisfied: requests in /usr/local/lib/python3.10/dist-packages (from transformers) (2.31.0)\n",
            "Requirement already satisfied: tokenizers<0.19,>=0.14 in /usr/local/lib/python3.10/dist-packages (from transformers) (0.15.1)\n",
            "Requirement already satisfied: safetensors>=0.3.1 in /usr/local/lib/python3.10/dist-packages (from transformers) (0.4.2)\n",
            "Requirement already satisfied: tqdm>=4.27 in /usr/local/lib/python3.10/dist-packages (from transformers) (4.66.1)\n",
            "Requirement already satisfied: fsspec>=2023.5.0 in /usr/local/lib/python3.10/dist-packages (from huggingface-hub<1.0,>=0.16.4->transformers) (2023.6.0)\n",
            "Requirement already satisfied: typing-extensions>=3.7.4.3 in /usr/local/lib/python3.10/dist-packages (from huggingface-hub<1.0,>=0.16.4->transformers) (4.5.0)\n",
            "Requirement already satisfied: charset-normalizer<4,>=2 in /usr/local/lib/python3.10/dist-packages (from requests->transformers) (3.3.2)\n",
            "Requirement already satisfied: idna<4,>=2.5 in /usr/local/lib/python3.10/dist-packages (from requests->transformers) (3.6)\n",
            "Requirement already satisfied: urllib3<3,>=1.21.1 in /usr/local/lib/python3.10/dist-packages (from requests->transformers) (2.0.7)\n",
            "Requirement already satisfied: certifi>=2017.4.17 in /usr/local/lib/python3.10/dist-packages (from requests->transformers) (2023.11.17)\n"
          ]
        }
      ]
    },
    {
      "cell_type": "markdown",
      "metadata": {
        "id": "mCPJfyz_yRlu"
      },
      "source": [
        "# Data"
      ]
    },
    {
      "cell_type": "markdown",
      "metadata": {
        "id": "4AaCLYv6yRlv"
      },
      "source": [
        "Let's start with loading the [AG News dataset](http://groups.di.unipi.it/~gulli/AG_corpus_of_news_articles.html). A [version of AG](https://huggingface.co/datasets/viewer/?dataset=ag_news) is made easily available by huggingface, so we will use that. Since this dataset comes in only a train-test split, we will create a validation set by setting aside a random subset of the training portion."
      ]
    },
    {
      "cell_type": "code",
      "metadata": {
        "id": "SVK4TR51yRlv",
        "colab": {
          "base_uri": "https://localhost:8080/",
          "height": 269,
          "referenced_widgets": [
            "edd792389f814ca58ac1c4a3994cfb87",
            "c50e205457ab4f6186a091c29139f6ef",
            "c5fabd80a4a149a2a0a35e11ebb84f75",
            "abc1dbc2a8d244a78ab3b1d6980cdab7",
            "7701a27b3ccc4a078f56c9eba789aea4",
            "39350900b7d2400b864bed1644b4d930",
            "70be8a3e2bed43e19434bb4f9bd15d9b",
            "2c78de489c16496c935a5f633c30fc96",
            "9a291b1bffbf42f9b9a84d92c8667c4c",
            "274612e3218944e18d798202fbb12c8e",
            "106b0d5a21914ae7ac81f935e00afa2c",
            "73df5fe16cef4ac3a83352ff99944e75",
            "5981f97b766b4457a767c479f59691a1",
            "740b7833e3a048c187e9331f471285ab",
            "87a4925d741f43bfb0a449b324bc2be6",
            "a7c50eae6bb34a928bd839d03cdda937",
            "791c3c1a892e40ae8ca3ff25bfa903b6",
            "5f7bac038f194fa296a17098ad2ad151",
            "6f80a784eefd45c2a3344cce8352c38c",
            "a788a78c446e4346a10b32a891a9befb",
            "82259d2233424e07a9ac33ce65683333",
            "b9b20037815c4354ad2e629681e0121f",
            "cb2b4e1fe69145b59d896d7ce5e5096b",
            "748691ab929b49138909c340839ac9cb",
            "bdc7397543d44653814f3078f1a19b3e",
            "044cfb7681284443a5e9ea90074711b6",
            "7dc9008506c04e9cb907e880b7577453",
            "af2d02534da442a0be3a0f0949c6dcf8",
            "a28a2b703547468583a0cbef4afd0a18",
            "43893b6f5e514b9899fb6d054e773c35",
            "6b649ed1504148428333dc41f45fca63",
            "9f8bfba8f724419da76219633830d8fd",
            "1f843aa164fd45c18c194da22c7b4708",
            "874becd575cf42fca3baed2b7b56d241",
            "ef9cc514c0a547a884e21ca7e499acf6",
            "804956a4963d4e35ae46e4bf79013ee5",
            "d465b2971c6244879b5ae2d12111c701",
            "94f74a9b745f4f7ca7b0c4dbd5ca405f",
            "c1d9345f1913486ca62375b301d137b9",
            "43a1e1e135a44c0b8599396686eb9387",
            "c60111efb090478380481e299b792e3c",
            "8d9ad100149d493ab99b6baf5c433808",
            "635f41917539496ea97c50e971e1e712",
            "8edcb16965e64e77a1486a3defc66a19"
          ]
        },
        "outputId": "3a055a45-3505-472d-b2b4-32e57a61ef8e"
      },
      "source": [
        "dataset = datasets.load_dataset('ag_news')\n",
        "label2str = {0: 'World', 1: 'Sports', 2: 'Business', 3: 'Sci/Tech'}  # Integer-string mapping for labels\n",
        "\n",
        "splitted = dataset['train'].train_test_split(test_size=0.1)  # Shuffles by default before splitting."
      ],
      "execution_count": 2,
      "outputs": [
        {
          "output_type": "stream",
          "name": "stderr",
          "text": [
            "/usr/local/lib/python3.10/dist-packages/huggingface_hub/utils/_token.py:88: UserWarning: \n",
            "The secret `HF_TOKEN` does not exist in your Colab secrets.\n",
            "To authenticate with the Hugging Face Hub, create a token in your settings tab (https://huggingface.co/settings/tokens), set it as secret in your Google Colab and restart your session.\n",
            "You will be able to reuse this secret in all of your notebooks.\n",
            "Please note that authentication is recommended but still optional to access public models or datasets.\n",
            "  warnings.warn(\n"
          ]
        },
        {
          "output_type": "display_data",
          "data": {
            "text/plain": [
              "Downloading data:   0%|          | 0.00/18.6M [00:00<?, ?B/s]"
            ],
            "application/vnd.jupyter.widget-view+json": {
              "version_major": 2,
              "version_minor": 0,
              "model_id": "edd792389f814ca58ac1c4a3994cfb87"
            }
          },
          "metadata": {}
        },
        {
          "output_type": "display_data",
          "data": {
            "text/plain": [
              "Downloading data:   0%|          | 0.00/1.23M [00:00<?, ?B/s]"
            ],
            "application/vnd.jupyter.widget-view+json": {
              "version_major": 2,
              "version_minor": 0,
              "model_id": "73df5fe16cef4ac3a83352ff99944e75"
            }
          },
          "metadata": {}
        },
        {
          "output_type": "display_data",
          "data": {
            "text/plain": [
              "Generating train split:   0%|          | 0/120000 [00:00<?, ? examples/s]"
            ],
            "application/vnd.jupyter.widget-view+json": {
              "version_major": 2,
              "version_minor": 0,
              "model_id": "cb2b4e1fe69145b59d896d7ce5e5096b"
            }
          },
          "metadata": {}
        },
        {
          "output_type": "display_data",
          "data": {
            "text/plain": [
              "Generating test split:   0%|          | 0/7600 [00:00<?, ? examples/s]"
            ],
            "application/vnd.jupyter.widget-view+json": {
              "version_major": 2,
              "version_minor": 0,
              "model_id": "874becd575cf42fca3baed2b7b56d241"
            }
          },
          "metadata": {}
        }
      ]
    },
    {
      "cell_type": "markdown",
      "metadata": {
        "id": "qOrP6agmyRlw"
      },
      "source": [
        "Check what the data looks like."
      ]
    },
    {
      "cell_type": "code",
      "metadata": {
        "id": "2dOPjH5byRlw",
        "colab": {
          "base_uri": "https://localhost:8080/"
        },
        "outputId": "7b42e1e4-7c86-4865-cdb0-d58885684243"
      },
      "source": [
        "train_docs = splitted['train']['text']\n",
        "train_labels = splitted['train']['label']\n",
        "val_docs = splitted['test']['text']\n",
        "val_labels = splitted['test']['label']\n",
        "test_docs = dataset['test']['text']\n",
        "test_labels = dataset['test']['label']\n",
        "\n",
        "print('{} training documents'.format(len(train_docs)))\n",
        "print('{} validation documents'.format(len(val_docs)))\n",
        "print('{} test documents\\n'.format(len(test_docs)))\n",
        "print('Labels\\n', label2str)\n",
        "print(train_docs[42])  # Show a random example\n",
        "print(train_labels[42], label2str[train_labels[42]])"
      ],
      "execution_count": 3,
      "outputs": [
        {
          "output_type": "stream",
          "name": "stdout",
          "text": [
            "108000 training documents\n",
            "12000 validation documents\n",
            "7600 test documents\n",
            "\n",
            "Labels\n",
            " {0: 'World', 1: 'Sports', 2: 'Business', 3: 'Sci/Tech'}\n",
            "Nov Retail Sales Edge Up as Car Sales Dip  WASHINGTON (Reuters) - U.S. retail sales rose 0.1 percent  in November, the Commerce Department said on Monday in a  stronger-than-expected report that cemented views the Federal  Reserve will raise interest rates again this week.\n",
            "2 Business\n"
          ]
        }
      ]
    },
    {
      "cell_type": "markdown",
      "metadata": {
        "id": "oZRQ9tEIyRlw"
      },
      "source": [
        "Let's define a Tokenizer class to help us tokenize text easily and get n-gram statistics."
      ]
    },
    {
      "cell_type": "code",
      "metadata": {
        "id": "xmgGwDbXyRlx"
      },
      "source": [
        "class Tokenizer:\n",
        "\n",
        "  def __init__(self, tokenize_type='basic', lowercase=False):\n",
        "    self.tokenize_type = tokenize_type\n",
        "    self.lowercase = lowercase\n",
        "\n",
        "    if self.tokenize_type == 'wp':\n",
        "      self.wptok = BertTokenizer.from_pretrained('bert-base-cased')\n",
        "\n",
        "  def tokenize(self, string):\n",
        "    if self.lowercase:\n",
        "      string = string.lower()\n",
        "\n",
        "    if self.tokenize_type == 'basic':\n",
        "      tokens = string.split()\n",
        "    elif self.tokenize_type == 'nltk':\n",
        "      tokens = nltk.tokenize.word_tokenize(string)\n",
        "    elif self.tokenize_type == 'wp':\n",
        "      tokens = self.wptok.tokenize(string)\n",
        "    else:\n",
        "      raise ValueError('Unknown tokenization type.')\n",
        "\n",
        "    return tokens\n",
        "\n",
        "  def count_ngrams(self, toks, n=3):\n",
        "    ngram_counts = [Counter() for _ in range(n)]\n",
        "\n",
        "    for i in range(len(toks)):\n",
        "      for j in range(n):\n",
        "        if i - j >= 0:\n",
        "          ngram = tuple([toks[k] for k in range(i - j, i + 1)])\n",
        "          ngram_counts[j][ngram] += 1\n",
        "\n",
        "    return ngram_counts\n",
        "\n",
        "\n",
        "def show_ngram_information(ngram_counts, k, quiet=False):\n",
        "  topk_unigrams = ngram_counts[0].most_common(k)\n",
        "  topk_bigrams = ngram_counts[1].most_common(k)\n",
        "  topk_trigrams = ngram_counts[2].most_common(k)\n",
        "\n",
        "  if not quiet:\n",
        "    print('-' * 79)\n",
        "    print('Most frequent n-grams for n=1,2,3')\n",
        "    for i in range(k):\n",
        "      if i < len(ngram_counts[0]):\n",
        "        print('{:10s} {:12d}\\t\\t'.format(' '.join(topk_unigrams[i][0]), topk_unigrams[i][1]), end='')\n",
        "        print('{:20s} {:12d}\\t\\t'.format(' '.join(topk_bigrams[i][0]), topk_bigrams[i][1]), end='')\n",
        "        print('{:22s} {:12d}'.format(' '.join(topk_trigrams[i][0]), topk_trigrams[i][1]))\n",
        "\n",
        "  plt.figure(figsize=(20,5))\n",
        "  labels, y = zip(*ngram_counts[0].most_common(50))\n",
        "  zipf = [y[0]/i for i in range(1, len(y) + 1)]\n",
        "  labels = [label_[0] for label_ in labels]\n",
        "  plt.plot(labels, y, '-r', label='Frequency', linewidth=1)\n",
        "  plt.plot(labels, zipf, '-b', label='Zipf', linewidth=1)\n",
        "  plt.xticks(rotation=90)\n",
        "  plt.legend(loc=\"upper right\")\n",
        "  plt.show()"
      ],
      "execution_count": 4,
      "outputs": []
    },
    {
      "cell_type": "markdown",
      "metadata": {
        "id": "a6YRM9pKyRlx"
      },
      "source": [
        "Let's tokenize and check the Zipf's law on a portion of the training data. Feel free to explore different tokenizers, but for later parts we will assume nltk tokenization for better readability."
      ]
    },
    {
      "cell_type": "markdown",
      "metadata": {
        "id": "cFjFvYbR0MyK"
      },
      "source": [
        "We need to download punkt package. Select Download (d) and specify \"punkt\" for Identifier below.\n",
        "```\n",
        "NLTK Downloader\n",
        "---------------------------------------------------------------------------\n",
        "    d) Download   l) List    u) Update   c) Config   h) Help   q) Quit\n",
        "---------------------------------------------------------------------------\n",
        "Downloader> d\n",
        "\n",
        "Download which package (l=list; x=cancel)?\n",
        "  Identifier> punkt\n",
        "    Downloading package punkt to /root/nltk_data...\n",
        "      Unzipping tokenizers/punkt.zip.\n",
        "\n",
        "---------------------------------------------------------------------------\n",
        "    d) Download   l) List    u) Update   c) Config   h) Help   q) Quit\n",
        "---------------------------------------------------------------------------\n",
        "Downloader> q\n",
        "```"
      ]
    },
    {
      "cell_type": "code",
      "metadata": {
        "id": "atQqx0ynzRf0",
        "colab": {
          "base_uri": "https://localhost:8080/"
        },
        "outputId": "6d87cc8b-5f4f-4605-be17-545c7802d234"
      },
      "source": [
        "nltk.download()"
      ],
      "execution_count": 5,
      "outputs": [
        {
          "name": "stdout",
          "output_type": "stream",
          "text": [
            "NLTK Downloader\n",
            "---------------------------------------------------------------------------\n",
            "    d) Download   l) List    u) Update   c) Config   h) Help   q) Quit\n",
            "---------------------------------------------------------------------------\n",
            "Downloader> d\n",
            "\n",
            "Download which package (l=list; x=cancel)?\n",
            "  Identifier> punkt\n"
          ]
        },
        {
          "output_type": "stream",
          "name": "stderr",
          "text": [
            "    Downloading package punkt to /root/nltk_data...\n",
            "      Unzipping tokenizers/punkt.zip.\n"
          ]
        },
        {
          "name": "stdout",
          "output_type": "stream",
          "text": [
            "\n",
            "---------------------------------------------------------------------------\n",
            "    d) Download   l) List    u) Update   c) Config   h) Help   q) Quit\n",
            "---------------------------------------------------------------------------\n",
            "Downloader> q\n"
          ]
        },
        {
          "output_type": "execute_result",
          "data": {
            "text/plain": [
              "True"
            ]
          },
          "metadata": {},
          "execution_count": 5
        }
      ]
    },
    {
      "cell_type": "code",
      "metadata": {
        "id": "E9C0P2DTyRly",
        "colab": {
          "base_uri": "https://localhost:8080/"
        },
        "outputId": "f0bd6a19-39f9-455c-98de-e490e4dc82bb"
      },
      "source": [
        "tokenize_type='nltk'\n",
        "tokenizer = Tokenizer(tokenize_type=tokenize_type, lowercase=True)\n",
        "\n",
        "train_toks = [tokenizer.tokenize(doc) for doc in train_docs]\n",
        "val_toks = [tokenizer.tokenize(doc) for doc in val_docs]\n",
        "test_toks = [tokenizer.tokenize(doc) for doc in test_docs]\n",
        "\n",
        "train_ngram_counts = tokenizer.count_ngrams(list(itertools.chain(*train_toks)))\n",
        "\n",
        "print('{} tokens in training under tokenizer type {}\\n{}/{}/{} unique unigram/bigram/trigram types'.format(\n",
        "    len(train_toks), tokenize_type, len(train_ngram_counts[0]), len(train_ngram_counts[1]),\n",
        "    len(train_ngram_counts[2])))"
      ],
      "execution_count": 6,
      "outputs": [
        {
          "output_type": "stream",
          "name": "stdout",
          "text": [
            "108000 tokens in training under tokenizer type nltk\n",
            "95100/1167717/2708525 unique unigram/bigram/trigram types\n"
          ]
        }
      ]
    },
    {
      "cell_type": "code",
      "source": [
        "show_ngram_information(train_ngram_counts, 10)"
      ],
      "metadata": {
        "id": "H1uNnEG8cLCk",
        "colab": {
          "base_uri": "https://localhost:8080/",
          "height": 542
        },
        "outputId": "d41fc4b3-02b2-44d9-b2d0-6cf63fd286d7"
      },
      "execution_count": 7,
      "outputs": [
        {
          "output_type": "stream",
          "name": "stdout",
          "text": [
            "-------------------------------------------------------------------------------\n",
            "Most frequent n-grams for n=1,2,3\n",
            "the              183612\t\t# 39                        39831\t\t# 39 ;                        39831\n",
            ",                144983\t\t39 ;                        39831\t\t39 ; s                        28038\n",
            ".                120211\t\t; s                         28167\t\t& gt ;                        11769\n",
            "to               107187\t\tin the                      19187\t\t& lt ;                        11764\n",
            "a                 98957\t\tof the                      18324\t\t( reuters )                   11543\n",
            "of                88202\t\t, the                       12187\t\treuters ) -                    7743\n",
            "in                85923\t\tgt ;                        11817\t\t( ap )                         7443\n",
            ";                 78415\t\tlt ;                        11769\t\tap ) ap                        6921\n",
            "and               62035\t\t& gt                        11769\t\t) ap -                         6921\n",
            "on                50819\t\t& lt                        11764\t\treuters ) reuters              3790\n"
          ]
        },
        {
          "output_type": "display_data",
          "data": {
            "text/plain": [
              "<Figure size 2000x500 with 1 Axes>"
            ],
            "image/png": "[encoded data removed]"
          },
          "metadata": {}
        }
      ]
    },
    {
      "cell_type": "markdown",
      "metadata": {
        "id": "DO3SLiRDyRly"
      },
      "source": [
        "Given the choice of tokenization, now is the time to choose *representation*. A common practice in NLP is to use the vocabulary (i.e., unique token/word types) as basic units. For efficiency we will use the top-k most frequent words as our vocab. Then we apply this vocab to all our data."
      ]
    },
    {
      "cell_type": "code",
      "metadata": {
        "id": "4UgKNTi-yRly",
        "colab": {
          "base_uri": "https://localhost:8080/"
        },
        "outputId": "d5563750-68a6-4c3f-e61c-12b264d91d29"
      },
      "source": [
        "vocab_size = 5000\n",
        "vocab = [tup[0] for tup, _ in train_ngram_counts[0].most_common(vocab_size)]\n",
        "\n",
        "#  vocab[i] can be accessed efficiently (it's a list), but we need a dictionary to map token to index efficiently.\n",
        "w2i = {}\n",
        "for i, word in enumerate(vocab):\n",
        "  w2i[word] = i\n",
        "\n",
        "# Threshold, then \"bag\" words (aka. bag-of-words representation).\n",
        "train_inds = [set([w2i[tok] for tok in toks if tok in w2i]) for toks in train_toks]\n",
        "val_inds = [set([w2i[tok] for tok in toks if tok in w2i]) for toks in val_toks]\n",
        "test_inds = [set([w2i[tok] for tok in toks if tok in w2i]) for toks in test_toks]\n",
        "\n",
        "print(train_inds[0])  # Now each document is a non-linguistic set of integers in {0...vocab_size-1}."
      ],
      "execution_count": 8,
      "outputs": [
        {
          "output_type": "stream",
          "name": "stdout",
          "text": [
            "{0, 1, 3457, 3, 4, 5, 6, 3458, 8, 2, 13, 14, 15, 530, 2963, 155, 2973, 32, 37, 294, 4017, 54, 321, 451, 839, 78, 224, 993, 870, 372, 2678, 631}\n"
          ]
        }
      ]
    },
    {
      "cell_type": "markdown",
      "metadata": {
        "id": "_xIqkdcKyRlz"
      },
      "source": [
        "Finally, we will pack data into matrix/vector form. This is important for computational efficiency (to avoid for loops)."
      ]
    },
    {
      "cell_type": "code",
      "metadata": {
        "id": "RoBEZs2CyRlz",
        "colab": {
          "base_uri": "https://localhost:8080/"
        },
        "outputId": "556d57bd-153b-4e37-f0d2-f84667c7d08e"
      },
      "source": [
        "def get_matrix_form(docs, labels):\n",
        "  assert len(docs) == len(labels)\n",
        "  X = np.zeros((len(docs), vocab_size))\n",
        "  y = np.zeros((len(docs), 1)).astype(int)\n",
        "  for i, doc in enumerate(docs):\n",
        "    for ind in doc:\n",
        "      X[i, ind] = 1\n",
        "    y[i] = labels[i]\n",
        "  return X, y\n",
        "\n",
        "X_train, y_train = get_matrix_form(train_inds, train_labels)\n",
        "X_val, y_val = get_matrix_form(val_inds, val_labels)\n",
        "X_test, y_test = get_matrix_form(test_inds, test_labels)\n",
        "\n",
        "print('X_train: {}'.format(X_train.shape))\n",
        "print('X_val: {}'.format(X_val.shape))\n",
        "print('X_test: {}'.format(X_test.shape))"
      ],
      "execution_count": 9,
      "outputs": [
        {
          "output_type": "stream",
          "name": "stdout",
          "text": [
            "X_train: (108000, 5000)\n",
            "X_val: (12000, 5000)\n",
            "X_test: (7600, 5000)\n"
          ]
        }
      ]
    },
    {
      "cell_type": "markdown",
      "metadata": {
        "id": "IoWte0PUyRlz"
      },
      "source": [
        "Now we're ready to train a classifier! A couple of remarks before we proceed.\n",
        "\n",
        "First, note that the binary vector representation of documents is very sparse and can be much more efficiently stored and worked with as dictionaries. For a long time NLP has worked with such sparse representations and there was a heavy emphasis on the use of hash tables. But as we will soon see, this is no longer the case, so we'll not bother and work directly with matrices even though they're memory-inefficient for such sparse representations.\n",
        "\n",
        "Second, we stored *all* training data as a single matrix. This is not feasible if the data is large (e.g., the internet). If the data is large, we would load from a file corresponding to a portion of data one at a time as we plow through data during training."
      ]
    },
    {
      "cell_type": "markdown",
      "metadata": {
        "id": "oOIik8NzyRl0"
      },
      "source": [
        "# Model"
      ]
    },
    {
      "cell_type": "markdown",
      "metadata": {
        "id": "gk4HacmoyRl0"
      },
      "source": [
        "Define a row-wise softmax that turns any rows of label scores (aka. \"logits\") into probability distributions over labels, with a numerical stability trick."
      ]
    },
    {
      "cell_type": "code",
      "metadata": {
        "id": "fjc6yNI1yRl0"
      },
      "source": [
        "def softmax(scores):\n",
        "  nonnegs = np.exp(scores - np.amax(scores, axis=1)[:, np.newaxis])\n",
        "  return nonnegs / np.sum(nonnegs, axis=1)[:, np.newaxis]"
      ],
      "execution_count": 10,
      "outputs": []
    },
    {
      "cell_type": "markdown",
      "metadata": {
        "id": "NqKR8bnCyRl0"
      },
      "source": [
        "Define a row-wise logsumexp that computes the log of the sum of the elements of each row, with a numerical stability trick."
      ]
    },
    {
      "cell_type": "code",
      "metadata": {
        "id": "f4Ar9vQnyRl0"
      },
      "source": [
        "def logsumexp(scores):\n",
        "  rowwise_max = np.amax(scores, axis=1)[:, np.newaxis]\n",
        "  return rowwise_max + np.log(np.sum(np.exp(scores - rowwise_max), axis=1)[:, np.newaxis])"
      ],
      "execution_count": 11,
      "outputs": []
    },
    {
      "cell_type": "markdown",
      "metadata": {
        "id": "lPSlsnbgyRl1"
      },
      "source": [
        "We will learn a simple linear classifier. It will have two key functions:\n",
        "\n",
        "- `forward`: Given $N$ documents it computes scores/logits for all $K=4$ labels, which you can represent as an $N \\times K$ matrix. This is all you need to make inference (you just pick argmax), but if it's additionally given gold labels it will also compute the *sum* of per-example cross-entropy losses,\n",
        "$$\n",
        "- \\sum_{i=1}^N \\log \\frac{\\exp(w_{y_i}^\\top x_i)}{\\sum_{y=1}^K \\exp(w_y^\\top x_i)}\n",
        "$$\n",
        "which will only be used for monitoring purposes later. More importantly, it will call the next function to calculate gradients.\n",
        "\n",
        "- `accumulate_gradients`: Given $N$ documents and gold labels and model scores, it computes the gradients of the *average* cross-entropy loss,\n",
        "$$\n",
        "\\hat{J}(W, b) = - \\frac{1}{N} \\sum_{i=1}^N \\log \\frac{\\exp(w_{y_i}^\\top x_i)}{\\sum_{y=1}^K \\exp(w_y^\\top x_i)}\n",
        "$$\n",
        "with respect to variables $W, b$ evaluated at the *current* values of $W, b$, then accumulates them for gradient-based optimization later."
      ]
    },
    {
      "cell_type": "code",
      "metadata": {
        "id": "HJm6_WH7yRl1"
      },
      "source": [
        "class LinearClassifier:\n",
        "\n",
        "  def __init__(self, dim, num_labels, init_range=0.1):\n",
        "    self.W = np.random.uniform(-init_range, init_range, (dim, num_labels))\n",
        "    self.b = np.zeros((1, num_labels))\n",
        "\n",
        "    self.W_grad = np.zeros((dim, num_labels))\n",
        "    self.b_grad = np.zeros((1, num_labels))\n",
        "\n",
        "  def forward(self, X, y=None):\n",
        "    batch_size = X.shape[0]\n",
        "    scores = np.matmul(X, self.W) + np.tile(self.b, (batch_size, 1))  # (batch_size, num_labels)\n",
        "    loss_sum = None\n",
        "    if y is not None:  # We're given gold labels, we're training.\n",
        "      loss_sum = np.sum(logsumexp(scores) - np.take_along_axis(scores, y, axis=1))\n",
        "      self.accumulate_gradients(X, y, scores)\n",
        "\n",
        "    return loss_sum, scores\n",
        "\n",
        "  def accumulate_gradients(self, X, y, scores):\n",
        "    batch_size = X.shape[0]\n",
        "    num_labels = scores.shape[1]\n",
        "    probs = softmax(scores)\n",
        "    golds = np.zeros((batch_size, num_labels))\n",
        "    golds[np.arange(batch_size), y[:,0]] = 1\n",
        "    diffs = probs - golds\n",
        "\n",
        "    # Taking the partial derivative of the cross-entropy loss w.r.t. weights W gives us X^T * (P(Y|X) - Y),\n",
        "    # where P(Y|X) is the predicted probability distribution (probs) and Y is the one-hot encoded true labels (golds).\n",
        "    # Averaging the gradient over the batch size to normalize its magnitude, making it consistent regardless of the number of samples in the batch\n",
        "    self.W_grad += np.dot(X.T, diffs) / batch_size\n",
        "\n",
        "    # Taking the partial derivative of the cross-entropy loss w.r.t. bias b gives us sum(P(Y|X) - Y) over the batch,\n",
        "    # Summation is done across the batch (axis 0), aggregating the error contribution of each sample to the bias.\n",
        "    self.b_grad += np.sum(diffs, axis = 0) / batch_size\n",
        "\n",
        "  def zero_grad(self):\n",
        "    self.W_grad.fill(0.)\n",
        "    self.b_grad.fill(0.)\n",
        "\n",
        "  def num_parameters(self):\n",
        "    return self.W.size + self.b.size"
      ],
      "execution_count": 12,
      "outputs": []
    },
    {
      "cell_type": "markdown",
      "metadata": {
        "id": "qyLQvx2dyRl1"
      },
      "source": [
        "One useful way to ensure that your gradient computation is absolutely correct is to do what's called the **gradient check**. The derivative of a function $f$ of some scalar variable $x \\in \\mathbb{R}$ evaluated at $x = a$ is:\n",
        "\n",
        "$$\n",
        "f'(a) = \\lim_{\\epsilon \\rightarrow 0} \\frac{f(x + \\epsilon) - f(x - \\epsilon)}{2\\epsilon}\n",
        "$$\n",
        "\n",
        "(Aside: This two-sided formulation is much more accurate than the one-sided formulation $f'(a) = \\lim_{\\epsilon \\rightarrow 0} \\frac{f(x + \\epsilon) - f(x)}{\\epsilon}$, see [this note](https://cs231n.github.io/neural-networks-3/#gradcheck).)\n",
        "Thus we can set some small $\\epsilon > 0$ and check if this is indeed the case for our gradients. Remember, in our case the function of interest is the *average cross entropy loss* defined on a single batch of labeled examples. We are calculating the gradient of that function with respect to model parameters $W, b$. Even though these are matrix-/vector-valued, a gradient is simply an array of partial derivatives so we can check each derivative individually."
      ]
    },
    {
      "cell_type": "code",
      "metadata": {
        "id": "XuMjvK1ByRl2",
        "colab": {
          "base_uri": "https://localhost:8080/"
        },
        "outputId": "1e65a0ed-70ec-40ba-e017-434b9f1e8b99"
      },
      "source": [
        "import unittest\n",
        "import copy\n",
        "\n",
        "class TestGradient(unittest.TestCase):\n",
        "\n",
        "  def setUp(self):\n",
        "    np.random.seed(42)\n",
        "    vocab_size = 100\n",
        "    num_labels = 4\n",
        "    num_examples = 20\n",
        "    self.epsilon = 1e-4\n",
        "    self.error_tolerance = 1e-6\n",
        "\n",
        "    # Randomly initialized model\n",
        "    self.model = LinearClassifier(vocab_size, num_labels)\n",
        "\n",
        "    # Random inputs and labels\n",
        "    self.X = np.random.randn(num_examples, vocab_size)\n",
        "    self.y = np.random.randint(num_labels, size=(num_examples, 1))\n",
        "\n",
        "    # Save the gradients from the model.\n",
        "    self.model.forward(self.X, self.y)  # This triggers accumulate_gradients\n",
        "    self.W_grad = copy.deepcopy(self.model.W_grad)\n",
        "    self.b_grad = copy.deepcopy(self.model.b_grad)\n",
        "\n",
        "  def test_gradient_W(self):\n",
        "    for i in range(self.model.W.shape[0]):\n",
        "      for j in range(self.model.W.shape[1]):\n",
        "        # f(x + epsilon)\n",
        "        self.model.W[i, j] += self.epsilon\n",
        "        loss_avg_perturbed1 = self.model.forward(self.X, self.y)[0] / self.X.shape[0]\n",
        "\n",
        "        # f(x - epsilon)\n",
        "        self.model.W[i, j] -= 2 * self.epsilon\n",
        "        loss_avg_perturbed2 = self.model.forward(self.X, self.y)[0] / self.X.shape[0]\n",
        "\n",
        "        # Numerical approximation of the partial derivative\n",
        "        truth = (loss_avg_perturbed1 - loss_avg_perturbed2) / (2 * self.epsilon)\n",
        "\n",
        "        # Compute the relative error\n",
        "        error = abs(self.W_grad[i, j] - truth) / max(abs(self.W_grad[i, j]), abs(truth))\n",
        "\n",
        "        self.assertLess(error, self.error_tolerance)\n",
        "\n",
        "        # Restore the original parameter value\n",
        "        self.model.W[i, j] += self.epsilon\n",
        "\n",
        "  def test_gradient_b(self):\n",
        "    for i in range(self.model.b.shape[1]):\n",
        "      # f(x + epsilon)\n",
        "      self.model.b[0, i] += self.epsilon\n",
        "      loss_avg_perturbed1 = self.model.forward(self.X, self.y)[0] / self.X.shape[0]\n",
        "\n",
        "      # f(x - epsilon)\n",
        "      self.model.b[0, i] -= 2 * self.epsilon\n",
        "      loss_avg_perturbed2 = self.model.forward(self.X, self.y)[0] / self.X.shape[0]\n",
        "\n",
        "      # Numerical approximation of the partial derivative\n",
        "      truth = (loss_avg_perturbed1 - loss_avg_perturbed2) / (2 * self.epsilon)\n",
        "\n",
        "      # Compute the relative error\n",
        "      error = abs(self.b_grad[0, i] - truth) / max(abs(self.b_grad[0, i]), abs(truth))\n",
        "\n",
        "      self.assertLess(error, self.error_tolerance)\n",
        "\n",
        "      # Restore the original parameter value\n",
        "      self.model.b[0, i] += self.epsilon\n",
        "\n",
        "\n",
        "unittest.main(TestGradient(), argv=[''], verbosity=2, exit=False)"
      ],
      "execution_count": 13,
      "outputs": [
        {
          "output_type": "stream",
          "name": "stderr",
          "text": [
            "test_gradient_W (__main__.TestGradient) ... ok\n",
            "test_gradient_b (__main__.TestGradient) ... ok\n",
            "\n",
            "----------------------------------------------------------------------\n",
            "Ran 2 tests in 0.111s\n",
            "\n",
            "OK\n"
          ]
        },
        {
          "output_type": "execute_result",
          "data": {
            "text/plain": [
              "<unittest.main.TestProgram at 0x7ee1eb76ba90>"
            ]
          },
          "metadata": {},
          "execution_count": 13
        }
      ]
    },
    {
      "cell_type": "markdown",
      "metadata": {
        "id": "OBRYaPO9yRl2"
      },
      "source": [
        "# Training"
      ]
    },
    {
      "cell_type": "markdown",
      "metadata": {
        "id": "D4qRh7P5yRl2"
      },
      "source": [
        "We will use stochastic gradient descent (SGD) to optimize the average cross-entropy loss above. Define a simple SGD optimizer class, which updates parameters of the associated model."
      ]
    },
    {
      "cell_type": "code",
      "metadata": {
        "id": "M9l9DJ_QyRl2"
      },
      "source": [
        "class SGDOptimizer:\n",
        "\n",
        "  def __init__(self, model, learning_rate):\n",
        "    self.model = model\n",
        "    self.lr = learning_rate\n",
        "\n",
        "  # Updating the parameters\n",
        "  def step(self):\n",
        "      self.model.W -= self.lr * self.model.W_grad\n",
        "      self.model.b -= self.lr * self.model.b_grad\n",
        "\n",
        "  def zero_grad(self):\n",
        "    self.model.zero_grad()\n",
        "\n",
        "  def modify_lr(self, learning_rate):\n",
        "    self.lr = learning_rate"
      ],
      "execution_count": 14,
      "outputs": []
    },
    {
      "cell_type": "code",
      "metadata": {
        "id": "jccBKKjqyRl3"
      },
      "source": [
        "def evaluate_accuracy(model, X, y, batch_size_eval=64):\n",
        "  num_correct = 0\n",
        "  for i in range(0, X.shape[0], batch_size_eval):\n",
        "    _, scores = model.forward(X[i: i + batch_size_eval])\n",
        "    preds = np.argmax(scores, axis=1)[:, np.newaxis]\n",
        "    num_correct += np.sum(preds == y[i: i + batch_size_eval])\n",
        "  return num_correct / X.shape[0] * 100."
      ],
      "execution_count": 15,
      "outputs": []
    },
    {
      "cell_type": "code",
      "metadata": {
        "id": "6RHHDmWDyRl3"
      },
      "source": [
        "def train(batch_size, learning_rate, max_num_epochs=30, early_stopping=True, verbose=True):\n",
        "  model = LinearClassifier(vocab_size, len(label2str))\n",
        "  optimizer = SGDOptimizer(model, learning_rate)\n",
        "\n",
        "  best_acc_val = float('-inf')\n",
        "  best_W = None\n",
        "  best_b = None\n",
        "  num_continuous_fails = 0\n",
        "  tolerance = 5\n",
        "\n",
        "  losses_avg = []\n",
        "  accs_train = []\n",
        "  accs_val = []\n",
        "\n",
        "  if verbose:\n",
        "    print('Num parameters {:d}'.format(model.num_parameters()))\n",
        "    print('Batch size {:d}, learning rate {:.5f}'.format(batch_size, learning_rate))\n",
        "\n",
        "  for epoch in range(max_num_epochs):\n",
        "    inds = list(range(X_train.shape[0]))  # Shuffle training data\n",
        "    random.shuffle(inds)\n",
        "    loss_total = 0.\n",
        "    num_correct = 0\n",
        "\n",
        "    for i in range(0, len(inds), batch_size):\n",
        "      inds_batch = inds[i: i + batch_size]\n",
        "      loss_sum, scores = model.forward(X_train[inds_batch, :], y_train[inds_batch, :])  # This triggers accumulate_gradients\n",
        "      loss_total += loss_sum\n",
        "      preds = np.argmax(scores, axis=1)[:, np.newaxis]\n",
        "      num_correct += np.sum(preds == y_train[inds_batch, :])\n",
        "\n",
        "      optimizer.step()\n",
        "      optimizer.zero_grad()  # Must clear the gradients\n",
        "\n",
        "    loss_avg = loss_total / len(inds)\n",
        "    acc_train = num_correct / len(inds) * 100.\n",
        "    acc_val = evaluate_accuracy(model, X_val, y_val)\n",
        "\n",
        "    losses_avg.append(loss_avg)\n",
        "    accs_train.append(acc_train)\n",
        "    accs_val.append(acc_val)\n",
        "\n",
        "    if acc_val > best_acc_val:\n",
        "      num_continuous_fails = 0\n",
        "      best_acc_val = acc_val\n",
        "      best_W = copy.deepcopy(model.W)\n",
        "      best_b = copy.deepcopy(model.b)\n",
        "    else:\n",
        "      num_continuous_fails += 1\n",
        "      if early_stopping and num_continuous_fails > tolerance:\n",
        "        if verbose:\n",
        "          print('Early stopping')\n",
        "        break\n",
        "\n",
        "    if verbose:\n",
        "      print('End of epoch {:3d}:\\t loss avg {:10.4f}\\t acc train {:10.2f}\\t acc val {:10.2f}'.format(\n",
        "          epoch + 1, loss_avg, acc_train, acc_val))\n",
        "\n",
        "  if verbose:\n",
        "    print('Best acc val: {:10.2f}'.format(best_acc_val))\n",
        "  model.W = best_W\n",
        "  model.b = best_b\n",
        "  return model, best_acc_val, losses_avg, accs_train, accs_val"
      ],
      "execution_count": 16,
      "outputs": []
    },
    {
      "cell_type": "code",
      "metadata": {
        "id": "_s-rduVbyRl3",
        "colab": {
          "base_uri": "https://localhost:8080/"
        },
        "outputId": "9637f0b2-0d0f-4dfc-8c85-c8f987398448"
      },
      "source": [
        "model, _, losses_avg, accs_train, accs_val = train(256, 5, max_num_epochs=20, early_stopping=False)"
      ],
      "execution_count": 17,
      "outputs": [
        {
          "output_type": "stream",
          "name": "stdout",
          "text": [
            "Num parameters 20004\n",
            "Batch size 256, learning rate 5.00000\n",
            "End of epoch   1:\t loss avg     0.7244\t acc train      81.53\t acc val      86.34\n",
            "End of epoch   2:\t loss avg     0.3487\t acc train      88.60\t acc val      89.87\n",
            "End of epoch   3:\t loss avg     0.3034\t acc train      89.85\t acc val      89.08\n",
            "End of epoch   4:\t loss avg     0.2818\t acc train      90.46\t acc val      87.12\n",
            "End of epoch   5:\t loss avg     0.2719\t acc train      90.81\t acc val      89.58\n",
            "End of epoch   6:\t loss avg     0.2616\t acc train      91.09\t acc val      90.10\n",
            "End of epoch   7:\t loss avg     0.2562\t acc train      91.28\t acc val      89.05\n",
            "End of epoch   8:\t loss avg     0.2478\t acc train      91.51\t acc val      90.12\n",
            "End of epoch   9:\t loss avg     0.2470\t acc train      91.54\t acc val      89.98\n",
            "End of epoch  10:\t loss avg     0.2434\t acc train      91.49\t acc val      89.16\n",
            "End of epoch  11:\t loss avg     0.2361\t acc train      91.82\t acc val      89.00\n",
            "End of epoch  12:\t loss avg     0.2369\t acc train      91.73\t acc val      89.09\n",
            "End of epoch  13:\t loss avg     0.2364\t acc train      91.78\t acc val      89.44\n",
            "End of epoch  14:\t loss avg     0.2326\t acc train      91.95\t acc val      89.89\n",
            "End of epoch  15:\t loss avg     0.2276\t acc train      92.02\t acc val      89.98\n",
            "End of epoch  16:\t loss avg     0.2293\t acc train      92.00\t acc val      89.72\n",
            "End of epoch  17:\t loss avg     0.2244\t acc train      92.15\t acc val      89.27\n",
            "End of epoch  18:\t loss avg     0.2223\t acc train      92.21\t acc val      89.82\n",
            "End of epoch  19:\t loss avg     0.2239\t acc train      92.15\t acc val      89.81\n",
            "End of epoch  20:\t loss avg     0.2216\t acc train      92.30\t acc val      89.92\n",
            "Best acc val:      90.12\n"
          ]
        }
      ]
    },
    {
      "cell_type": "markdown",
      "metadata": {
        "id": "ctgzGZsHyRl3"
      },
      "source": [
        "The training loss on average should decrease since that's what we're optimizing."
      ]
    },
    {
      "cell_type": "code",
      "metadata": {
        "id": "ReY3ZGifyRl3",
        "colab": {
          "base_uri": "https://localhost:8080/",
          "height": 445
        },
        "outputId": "58465ebb-cd7a-4ede-dcf0-a3d022364469"
      },
      "source": [
        "plt.figure(figsize=(10,5))\n",
        "labels = [str(epoch + 1) for epoch in range(len(losses_avg))]\n",
        "plt.plot(labels, losses_avg, '-b', label='average training loss', linewidth=1)\n",
        "plt.legend(loc=\"upper right\")\n",
        "plt.show()"
      ],
      "execution_count": 18,
      "outputs": [
        {
          "output_type": "display_data",
          "data": {
            "text/plain": [
              "<Figure size 1000x500 with 1 Axes>"
            ],
            "image/png": "[encoded data removed]"
          },
          "metadata": {}
        }
      ]
    },
    {
      "cell_type": "markdown",
      "metadata": {
        "id": "K8TYmqFTyRl3"
      },
      "source": [
        "What about the actual model performance (i.e., accuracy for classification)? Well, the training accuracy should likewise mostly always increase assuming that the training loss is correlated with classification performance. However, the *validation* accuracy will plateau or even decrease. This is because the model is [overfitting](https://en.wikipedia.org/wiki/Overfitting) the finite training data and memorizing useless patterns that do not generalize."
      ]
    },
    {
      "cell_type": "code",
      "metadata": {
        "id": "Ht2pN29syRl4",
        "colab": {
          "base_uri": "https://localhost:8080/",
          "height": 445
        },
        "outputId": "5d7d2dd0-7216-4bd4-d3f8-c1d72653c155"
      },
      "source": [
        "plt.figure(figsize=(10,5))\n",
        "plt.plot(labels, accs_train, '-b', label='training accuracy', linewidth=1)\n",
        "plt.plot(labels, accs_val, '-r', label='validation accuracy', linewidth=1)\n",
        "plt.legend(loc=\"upper right\")\n",
        "plt.show()"
      ],
      "execution_count": 19,
      "outputs": [
        {
          "output_type": "display_data",
          "data": {
            "text/plain": [
              "<Figure size 1000x500 with 1 Axes>"
            ],
            "image/png": "[encoded data removed]"
          },
          "metadata": {}
        }
      ]
    },
    {
      "cell_type": "markdown",
      "metadata": {
        "id": "C_CVsvdKyRl4"
      },
      "source": [
        "Overfitting is a huge issue in machine learning. Strategies to prevent overfitting and improve generalization are called **regularization** methods. The full coverage of the deep connections between various regularization methods and a model's generalization capabilities is beyond the scope of this course. In practice, we often use a combination of different methods like\n",
        "\n",
        "- **Early stopping**: Monitor validation performance and stop training if it doesn't improve for a certain number of epochs. This is the only explicit regularization we do in this assignment.\n",
        "- **Weight penalty**: Instead of minimizing just $J(W, b)$, we minimize $J(W, b) + (\\lambda/2) (\\|W\\|^2 + \\|b\\|^2)$ where $\\lambda \\geq 0$ controls the strength of regularization. There is hardly any change except that the gradient update becomes $W \\gets W - \\eta \\nabla_W J(W, b) - \\eta\\lambda W$ (similarly for $b$), where you can see that we're \"shrinking\" the parameter size.\n",
        "- **More training data**: This is obviously the best way to regularize (i.e., improve generalization), if you can afford to annotate more data.\n",
        "- Other regularization techniques will be discussed later in the course (e.g., dropout)."
      ]
    },
    {
      "cell_type": "markdown",
      "metadata": {
        "id": "lIf33c4EyRl4"
      },
      "source": [
        "# Hyperparameter Tuning"
      ]
    },
    {
      "cell_type": "markdown",
      "metadata": {
        "id": "ubD84XKWyRl4"
      },
      "source": [
        "Experiments usually involve heavy hyperparameter tuning. This means you try a few different values of key hyperparameters to find one that works best (on validation data). For stochastic gradient descent, two important hyperparameters are the *batch size* and the *learning rate*. These two interact, so you have to search over their joint space. Typically you change them on a logarithmic scale (e.g., 0.0001, 0.001, 0.01, 0.1 for learning rates, 16, 32, 64, 128, 256 for batch sizes).\n",
        "\n",
        "While we don't do this here, it is often more effective to do *random* search. For a certain number of trials, you'd draw a float $p$ from the uniform distribution over $[1,5]$ and set the learning rate to be $1\\mathrm{e}{-p}$, similarly for batch size. This is particularly useful if the joint space of hyperparameters to tune is too large to search exhaustively.\n",
        "\n",
        "The code below will take some time to run since we're performing *full training* for every pair (batch_size, learning_rate)."
      ]
    },
    {
      "cell_type": "code",
      "metadata": {
        "id": "Nq0kR-GgyRl5",
        "colab": {
          "base_uri": "https://localhost:8080/"
        },
        "outputId": "e9248e31-3368-44f9-cc9c-cc7498f7dda2"
      },
      "source": [
        "model_best = None\n",
        "best_of_bests = float('-inf')\n",
        "for batch_size in [128, 256, 512]:\n",
        "  for learning_rate in [10, 1, 0.1]:\n",
        "    model, best_acc_val, _, _, _ = train(batch_size, learning_rate, verbose=False)\n",
        "    print('Batch size {:d}\\t learning rate {:10.5f}\\t acc val {:10.2f}'.format(\n",
        "        batch_size, learning_rate, best_acc_val))\n",
        "    if best_acc_val > best_of_bests:\n",
        "      best_of_bests = best_acc_val\n",
        "      model_best = copy.deepcopy(model)  # Saving the best performing model (validation performance)"
      ],
      "execution_count": 20,
      "outputs": [
        {
          "output_type": "stream",
          "name": "stdout",
          "text": [
            "Batch size 128\t learning rate   10.00000\t acc val      89.05\n",
            "Batch size 128\t learning rate    1.00000\t acc val      90.33\n",
            "Batch size 128\t learning rate    0.10000\t acc val      89.88\n",
            "Batch size 256\t learning rate   10.00000\t acc val      89.58\n",
            "Batch size 256\t learning rate    1.00000\t acc val      90.24\n",
            "Batch size 256\t learning rate    0.10000\t acc val      89.23\n",
            "Batch size 512\t learning rate   10.00000\t acc val      90.06\n",
            "Batch size 512\t learning rate    1.00000\t acc val      90.19\n",
            "Batch size 512\t learning rate    0.10000\t acc val      88.48\n"
          ]
        }
      ]
    },
    {
      "cell_type": "markdown",
      "metadata": {
        "id": "H3bVJpbqyRl5"
      },
      "source": [
        "TODO: Fill the following minimal grid over batch sizes and learning rates with corresponding validation accuracies, and boldface the best one."
      ]
    },
    {
      "cell_type": "markdown",
      "metadata": {
        "id": "a0-9mwI9yRl5"
      },
      "source": [
        "\n",
        "| batch_size\\lr |   10  |   1   |  0.1  |\n",
        "| :---:         | :---: | :---: | :---: |\n",
        "| 128           | 89.05 | **90.33** | 89.88 |\n",
        "| 256           | 89.58 | 90.24 | 89.23 |\n",
        "| 512           | 90.06 | 90.19 | 88.48 |\n"
      ]
    },
    {
      "cell_type": "markdown",
      "metadata": {
        "id": "Jt0TgcTnyRl5"
      },
      "source": [
        "Hyperparameter tuning may not be as exciting as implementing a model or deriving a formula, but it is absolutely an essential skill in modern NLP. Careful, well-thought-out tuning is key to good performance. This is not so much an issue for this simple model, but it becomes critical when the model gets complex."
      ]
    },
    {
      "cell_type": "markdown",
      "metadata": {
        "id": "c01UTFAFyRl5"
      },
      "source": [
        "# Error Analysis"
      ]
    },
    {
      "cell_type": "markdown",
      "metadata": {
        "id": "G27khc7qyRl5"
      },
      "source": [
        "Because we only have 4 labels we can easily visualize the prediction behavior of the model through a [confusion matrix](https://en.wikipedia.org/wiki/Confusion_matrix)."
      ]
    },
    {
      "cell_type": "code",
      "metadata": {
        "id": "ktJMpHo8yRl5"
      },
      "source": [
        "confusion_matrix = [[0 for _ in range(len(label2str))] for _ in range(len(label2str))]\n",
        "N = 64\n",
        "for i in range(0, X_val.shape[0], N):\n",
        "  X = X_val[i: i + N]\n",
        "  y = y_val[i: i + N]\n",
        "  _, scores = model_best.forward(X)\n",
        "  preds = np.argmax(scores, axis=1)[:, np.newaxis]\n",
        "  for j in range(X.shape[0]):\n",
        "    confusion_matrix[y[j][0]][preds[j][0]] += 1\n",
        "\n",
        "for i in range(len(label2str)):\n",
        "  num_label_i_total = sum(confusion_matrix[i])\n",
        "  for j in range(len(label2str)):\n",
        "    confusion_matrix[i][j] /= num_label_i_total"
      ],
      "execution_count": 21,
      "outputs": []
    },
    {
      "cell_type": "code",
      "metadata": {
        "id": "AJR4JlGQyRl6",
        "colab": {
          "base_uri": "https://localhost:8080/",
          "height": 616
        },
        "outputId": "6f6eb4a4-2c56-4577-bb00-3cc85d28f386"
      },
      "source": [
        "df_cm = pandas.DataFrame(confusion_matrix,\n",
        "                         index=[label2str[i] for i in range(len(label2str))],\n",
        "                         columns=[label2str[i] for i in range(len(label2str))])\n",
        "plt.figure(figsize = (10,7))\n",
        "seaborn.heatmap(df_cm, annot=True)"
      ],
      "execution_count": 22,
      "outputs": [
        {
          "output_type": "execute_result",
          "data": {
            "text/plain": [
              "<Axes: >"
            ]
          },
          "metadata": {},
          "execution_count": 22
        },
        {
          "output_type": "display_data",
          "data": {
            "text/plain": [
              "<Figure size 1000x700 with 2 Axes>"
            ],
            "image/png": "[encoded data removed]"
          },
          "metadata": {}
        }
      ]
    },
    {
      "cell_type": "markdown",
      "metadata": {
        "id": "VMRWN4aByRl6"
      },
      "source": [
        "This is a relatively easy problem so we see that all the classes are mostly right. The model seems to predict Sci/Tech when the true label is Business. This is not surprising if you look at the data."
      ]
    },
    {
      "cell_type": "markdown",
      "metadata": {
        "id": "q7FXz1bfyRl6"
      },
      "source": [
        "# Final Evaluation"
      ]
    },
    {
      "cell_type": "markdown",
      "metadata": {
        "id": "lgzVsaB4yRl6"
      },
      "source": [
        "The final performance to report is computed on the test portion using the best model from development (after tuning). Ideally the test portion should be touched only *once*, or as few times as possible."
      ]
    },
    {
      "cell_type": "code",
      "metadata": {
        "id": "lNBlr6jtyRl6",
        "colab": {
          "base_uri": "https://localhost:8080/"
        },
        "outputId": "37c82868-6b1a-4395-a7c8-eafec88810f3"
      },
      "source": [
        "acc_test = evaluate_accuracy(model_best, X_test, y_test)\n",
        "print('Final test accuracy: {:10.2f}'.format(acc_test))"
      ],
      "execution_count": 23,
      "outputs": [
        {
          "output_type": "stream",
          "name": "stdout",
          "text": [
            "Final test accuracy:      90.36\n"
          ]
        }
      ]
    }
  ]
}